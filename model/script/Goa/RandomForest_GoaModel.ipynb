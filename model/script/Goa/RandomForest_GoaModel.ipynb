{
  "nbformat": 4,
  "nbformat_minor": 0,
  "metadata": {
    "colab": {
      "provenance": []
    },
    "kernelspec": {
      "name": "python3",
      "display_name": "Python 3"
    },
    "language_info": {
      "name": "python"
    }
  },
  "cells": [
    {
      "cell_type": "markdown",
      "source": [
        "# (1) Import req module and data"
      ],
      "metadata": {
        "id": "kZr6OC2G8L1j"
      }
    },
    {
      "cell_type": "markdown",
      "source": [
        "## 1.1 Import the final merged cleandata of goa"
      ],
      "metadata": {
        "id": "jtVMJhkX9274"
      }
    },
    {
      "cell_type": "code",
      "execution_count": 4,
      "metadata": {
        "colab": {
          "base_uri": "https://localhost:8080/"
        },
        "id": "qg5WvWaB8Fp_",
        "outputId": "72159043-b7f2-41b9-f4da-287f53a3dd55"
      },
      "outputs": [
        {
          "output_type": "stream",
          "name": "stderr",
          "text": [
            "/tmp/ipython-input-3797330575.py:10: DtypeWarning: Columns (21,23,26,27,28) have mixed types. Specify dtype option on import or set low_memory=False.\n",
            "  Fianl_cleanData_Merged_Goa = pd.read_csv(\"/content/drive/MyDrive/BITS_PILANI_RESEARCH/Data/Final_Merge_CleanData_1Hour.csv\", encoding='latin1')\n"
          ]
        }
      ],
      "source": [
        "# Importing libraries\n",
        "\n",
        "import pandas as pd\n",
        "import numpy as np\n",
        "import matplotlib.pyplot as plt\n",
        "import seaborn as sns\n",
        "\n",
        "# Load Firepoints Data\n",
        "\n",
        "Fianl_cleanData_Merged_Goa = pd.read_csv(\"/content/drive/MyDrive/BITS_PILANI_RESEARCH/Data/Final_Merge_CleanData_1Hour.csv\", encoding='latin1')"
      ]
    },
    {
      "cell_type": "markdown",
      "source": [
        "## 1.2 Load the shape file of Goa"
      ],
      "metadata": {
        "id": "obCWp5HC9Cas"
      }
    },
    {
      "cell_type": "code",
      "source": [
        "import geopandas as gpd\n",
        "\n",
        "# Load the shape file\n",
        "protect_area = gpd.read_file(\"/content/drive/MyDrive/BITS_PILANI_RESEARCH/Data/Data/shp/Protect_area.shp\")\n",
        "\n",
        "# Prview spatial data\n",
        "print(protect_area.head())\n",
        "protect_area.plot()"
      ],
      "metadata": {
        "colab": {
          "base_uri": "https://localhost:8080/",
          "height": 534
        },
        "id": "APxnQhAD9BpN",
        "outputId": "4ef753c8-e3cf-4c1a-938e-8ffa58fc88e6"
      },
      "execution_count": 5,
      "outputs": [
        {
          "output_type": "stream",
          "name": "stdout",
          "text": [
            "      osm_id                              name                Type State  \\\n",
            "0  202271962  Chorao Island (Dr.Salim Ali) WLS  Wildlife Sanctuary   Goa   \n",
            "\n",
            "   Year  Area  feature_id                                           geometry  \n",
            "0  1988  1.78          62  MULTIPOLYGON (((74.09407 15.45244, 74.10334 15...  \n"
          ]
        },
        {
          "output_type": "execute_result",
          "data": {
            "text/plain": [
              "<Axes: >"
            ]
          },
          "metadata": {},
          "execution_count": 5
        },
        {
          "output_type": "display_data",
          "data": {
            "text/plain": [
              "<Figure size 640x480 with 1 Axes>"
            ],
            "image/png": "[encoded data removed]"
          },
          "metadata": {}
        }
      ]
    },
    {
      "cell_type": "markdown",
      "source": [
        "## 1.3 Drop the rendundant column"
      ],
      "metadata": {
        "id": "PleXHWXr9Hri"
      }
    },
    {
      "cell_type": "code",
      "source": [
        "# Drop Forest Block, Compartment number columns\n",
        "\n",
        "Fianl_cleanData_Merged_Goa.drop(columns=['DT_1H','DISTRICT_N','FIRE_DT_1H_x','FIRE_DT_1H_y'], inplace=True)\n",
        "print(Fianl_cleanData_Merged_Goa.head())"
      ],
      "metadata": {
        "colab": {
          "base_uri": "https://localhost:8080/"
        },
        "id": "AWva1O20-Bb2",
        "outputId": "e150572f-41af-4219-b0eb-4acd08f2da22"
      },
      "execution_count": 6,
      "outputs": [
        {
          "output_type": "stream",
          "name": "stdout",
          "text": [
            "    DISTRICT            STATION DATE(YYYY-MM-DD) TIME (UTC)  \\\n",
            "0  NORTH_GOA  ELA_NORTH GOA_KVK       2021-10-01   00:00:00   \n",
            "1  NORTH_GOA  ELA_NORTH GOA_KVK       2021-10-01   00:15:00   \n",
            "2  NORTH_GOA  ELA_NORTH GOA_KVK       2021-10-01   00:30:00   \n",
            "3  NORTH_GOA  ELA_NORTH GOA_KVK       2021-10-01   00:45:00   \n",
            "4  NORTH_GOA  ELA_NORTH GOA_KVK       2021-10-01   01:00:00   \n",
            "\n",
            "   RAIN FALL CUM. SINCE 0300 UTC (mm)  TEMP. ('C)  TEMP DAY MIN. ('C)  \\\n",
            "0                                 0.0        25.0                24.7   \n",
            "1                                 0.0        24.8                24.7   \n",
            "2                                 0.0        24.7                24.7   \n",
            "3                                 0.0        24.8                24.7   \n",
            "4                                 0.0        25.0                24.7   \n",
            "\n",
            "   TEMP DAY MAX. ('C)  RH (%)  WIND DIR 10 m (Deg)  ...  Lat_AWS  Long_AWS  \\\n",
            "0                32.0   100.0                 75.0  ...  15.4893   73.9196   \n",
            "1                32.0   100.0                192.0  ...  15.4893   73.9196   \n",
            "2                32.0   100.0                140.0  ...  15.4893   73.9196   \n",
            "3                32.0   100.0                160.0  ...  15.4893   73.9196   \n",
            "4                32.0   100.0                189.0  ...  15.4893   73.9196   \n",
            "\n",
            "   ALTITUDE                   DT  fire_occurrence  Lat_FSI  Long_FSI  Circle  \\\n",
            "0      59.3  2021-10-01 00:00:00                0      NaN       NaN     NaN   \n",
            "1      59.3  2021-10-01 00:15:00                0      NaN       NaN     NaN   \n",
            "2      59.3  2021-10-01 00:30:00                0      NaN       NaN     NaN   \n",
            "3      59.3  2021-10-01 00:45:00                0      NaN       NaN     NaN   \n",
            "4      59.3  2021-10-01 01:00:00                0      NaN       NaN     NaN   \n",
            "\n",
            "  Block/Section/Round  Beat  \n",
            "0                 NaN   NaN  \n",
            "1                 NaN   NaN  \n",
            "2                 NaN   NaN  \n",
            "3                 NaN   NaN  \n",
            "4                 NaN   NaN  \n",
            "\n",
            "[5 rows x 25 columns]\n"
          ]
        }
      ]
    },
    {
      "cell_type": "markdown",
      "source": [
        "# (2) Implement ML Model"
      ],
      "metadata": {
        "id": "SGCW452B_rOz"
      }
    },
    {
      "cell_type": "markdown",
      "source": [
        "## 2.1 Splitting data"
      ],
      "metadata": {
        "id": "zgJ13Y4m_wVh"
      }
    },
    {
      "cell_type": "code",
      "source": [
        "import pandas as pd\n",
        "from sklearn.model_selection import train_test_split\n",
        "\n",
        "# Load the final table (use in-memory if present, else CSV)\n",
        "df = Fianl_cleanData_Merged_Goa.copy()\n",
        "\n",
        "# Safety check\n",
        "assert \"fire_occurrence\" in df.columns, \"Label column 'fire_occurrence' not found\"\n",
        "\n",
        "# y: target\n",
        "y = df[\"fire_occurrence\"].astype(int)\n",
        "\n",
        "# X: all numeric features except the label\n",
        "# This automatically ignores textual columns like station, district, circle, etc.\n",
        "X_num = df.select_dtypes(include=[\"number\"]).copy()\n",
        "if \"fire_occurrence\" in X_num.columns:\n",
        "    X_num = X_num.drop(columns=[\"fire_occurrence\"])\n",
        "\n",
        "# Report class balance before split\n",
        "print(\"Total rows:\", len(df))\n",
        "print(\"Label distribution:\\n\", y.value_counts(dropna=False))\n",
        "\n",
        "# First split: 60% train, 40% temp (stratified)\n",
        "X_train, X_temp, y_train, y_temp = train_test_split(\n",
        "    X_num, y, test_size=0.40, stratify=y, random_state=42, shuffle=True\n",
        ")\n",
        "\n",
        "# Second split: temp -> 20% val, 20% test (50/50 split of temp, stratified)\n",
        "X_val, X_test, y_val, y_test = train_test_split(\n",
        "    X_temp, y_temp, test_size=0.50, stratify=y_temp, random_state=42, shuffle=True\n",
        ")\n",
        "\n",
        "# Show shapes and class balance\n",
        "def info_split(name, Xp, yp):\n",
        "    print(f\"{name}: X={Xp.shape}, y={yp.shape}\")\n",
        "    print(f\"{name} label distribution:\\n\", yp.value_counts(dropna=False))\n",
        "\n",
        "info_split(\"Train\", X_train, y_train)\n",
        "info_split(\"Validation\", X_val, y_val)\n",
        "info_split(\"Test\", X_test, y_test)"
      ],
      "metadata": {
        "colab": {
          "base_uri": "https://localhost:8080/"
        },
        "id": "jJVj38vZ_vsg",
        "outputId": "1710ddf9-6c74-41f9-92f6-0a08b9927b82"
      },
      "execution_count": 7,
      "outputs": [
        {
          "output_type": "stream",
          "name": "stdout",
          "text": [
            "Total rows: 328559\n",
            "Label distribution:\n",
            " fire_occurrence\n",
            "0    327757\n",
            "1       802\n",
            "Name: count, dtype: int64\n",
            "Train: X=(197135, 16), y=(197135,)\n",
            "Train label distribution:\n",
            " fire_occurrence\n",
            "0    196654\n",
            "1       481\n",
            "Name: count, dtype: int64\n",
            "Validation: X=(65712, 16), y=(65712,)\n",
            "Validation label distribution:\n",
            " fire_occurrence\n",
            "0    65551\n",
            "1      161\n",
            "Name: count, dtype: int64\n",
            "Test: X=(65712, 16), y=(65712,)\n",
            "Test label distribution:\n",
            " fire_occurrence\n",
            "0    65552\n",
            "1      160\n",
            "Name: count, dtype: int64\n"
          ]
        }
      ]
    },
    {
      "cell_type": "markdown",
      "source": [
        "## 2.2 Model Selection"
      ],
      "metadata": {
        "id": "AGrrUcJFExrz"
      }
    },
    {
      "cell_type": "code",
      "source": [
        "import copy\n",
        "import numpy as np\n",
        "from sklearn.pipeline import Pipeline\n",
        "from sklearn.impute import SimpleImputer\n",
        "from sklearn.ensemble import RandomForestClassifier\n",
        "from sklearn.metrics import average_precision_score\n",
        "\n",
        "# Random Forest with class balancing and warm_start for incremental training\n",
        "rf = RandomForestClassifier(\n",
        "    n_estimators=0,                # will grow trees iteratively\n",
        "    criterion=\"log_loss\",         # probabilistic criterion for classification\n",
        "    class_weight=\"balanced_subsample\",\n",
        "    max_depth=None,\n",
        "    min_samples_split=2,\n",
        "    min_samples_leaf=1,\n",
        "    max_features=\"sqrt\",\n",
        "    n_jobs=-1,\n",
        "    random_state=42,\n",
        "    warm_start=True               # allow adding trees across epochs\n",
        ")\n",
        "\n",
        "model = Pipeline(steps=[\n",
        "    (\"imputer\", SimpleImputer(strategy=\"median\")),  # RF cannot handle NaNs directly\n",
        "    (\"rf\", rf)\n",
        "])\n",
        "\n",
        "# Early stopping config\n",
        "max_epochs = 30                  # requested number of runs\n",
        "trees_per_epoch = 10             # trees added per epoch (total up to 300)\n",
        "patience = 5                     # stop if no improvement for 'patience' epochs\n",
        "min_delta = 1e-4                 # minimum AP improvement to reset patience\n",
        "\n",
        "best_ap = -np.inf\n",
        "best_epoch = -1\n",
        "epochs_without_improve = 0\n",
        "best_model = None\n",
        "\n",
        "for epoch in range(1, max_epochs + 1):\n",
        "    # Increase the number of trees\n",
        "    model.named_steps[\"rf\"].n_estimators += trees_per_epoch\n",
        "\n",
        "    # Fit on training data (imputer fits on train only inside the pipeline)\n",
        "    model.fit(X_train, y_train)\n",
        "\n",
        "    # Evaluate on validation with Average Precision (PR AUC) for imbalanced data\n",
        "    val_proba = model.predict_proba(X_val)[:, 1]\n",
        "    ap = average_precision_score(y_val, val_proba)\n",
        "\n",
        "    print(f\"Epoch {epoch:02d} | n_estimators={model.named_steps['rf'].n_estimators} | Val AP={ap:.6f}\")\n",
        "\n",
        "    # Early stopping check\n",
        "    if ap > best_ap + min_delta:\n",
        "        best_ap = ap\n",
        "        best_epoch = epoch\n",
        "        best_model = copy.deepcopy(model)  # snapshot the current best model\n",
        "        epochs_without_improve = 0\n",
        "    else:\n",
        "        epochs_without_improve += 1\n",
        "        if epochs_without_improve >= patience:\n",
        "            print(f\"Early stopping at epoch {epoch} (best at epoch {best_epoch} with AP={best_ap:.6f})\")\n",
        "            break\n",
        "\n",
        "# Use the best snapshot for downstream steps\n",
        "rf_model = best_model if best_model is not None else model\n",
        "print(f\"Training complete. Best epoch={best_epoch}, Best Val AP={best_ap:.6f}\")"
      ],
      "metadata": {
        "colab": {
          "base_uri": "https://localhost:8080/"
        },
        "id": "e9A6X_rTE4SE",
        "outputId": "51acd405-8630-4630-910f-c4a5c9ebe487"
      },
      "execution_count": 8,
      "outputs": [
        {
          "output_type": "stream",
          "name": "stderr",
          "text": [
            "/usr/local/lib/python3.12/dist-packages/sklearn/ensemble/_forest.py:861: UserWarning: class_weight presets \"balanced\" or \"balanced_subsample\" are not recommended for warm_start if the fitted data differs from the full dataset. In order to use \"balanced\" weights, use compute_class_weight (\"balanced\", classes, y). In place of y you can use a large enough sample of the full training set target to properly estimate the class frequency distributions. Pass the resulting weights as the class_weight parameter.\n",
            "  warn(\n"
          ]
        },
        {
          "output_type": "stream",
          "name": "stdout",
          "text": [
            "Epoch 01 | n_estimators=10 | Val AP=1.000000\n"
          ]
        },
        {
          "output_type": "stream",
          "name": "stderr",
          "text": [
            "/usr/local/lib/python3.12/dist-packages/sklearn/ensemble/_forest.py:861: UserWarning: class_weight presets \"balanced\" or \"balanced_subsample\" are not recommended for warm_start if the fitted data differs from the full dataset. In order to use \"balanced\" weights, use compute_class_weight (\"balanced\", classes, y). In place of y you can use a large enough sample of the full training set target to properly estimate the class frequency distributions. Pass the resulting weights as the class_weight parameter.\n",
            "  warn(\n"
          ]
        },
        {
          "output_type": "stream",
          "name": "stdout",
          "text": [
            "Epoch 02 | n_estimators=20 | Val AP=1.000000\n"
          ]
        },
        {
          "output_type": "stream",
          "name": "stderr",
          "text": [
            "/usr/local/lib/python3.12/dist-packages/sklearn/ensemble/_forest.py:861: UserWarning: class_weight presets \"balanced\" or \"balanced_subsample\" are not recommended for warm_start if the fitted data differs from the full dataset. In order to use \"balanced\" weights, use compute_class_weight (\"balanced\", classes, y). In place of y you can use a large enough sample of the full training set target to properly estimate the class frequency distributions. Pass the resulting weights as the class_weight parameter.\n",
            "  warn(\n"
          ]
        },
        {
          "output_type": "stream",
          "name": "stdout",
          "text": [
            "Epoch 03 | n_estimators=30 | Val AP=1.000000\n"
          ]
        },
        {
          "output_type": "stream",
          "name": "stderr",
          "text": [
            "/usr/local/lib/python3.12/dist-packages/sklearn/ensemble/_forest.py:861: UserWarning: class_weight presets \"balanced\" or \"balanced_subsample\" are not recommended for warm_start if the fitted data differs from the full dataset. In order to use \"balanced\" weights, use compute_class_weight (\"balanced\", classes, y). In place of y you can use a large enough sample of the full training set target to properly estimate the class frequency distributions. Pass the resulting weights as the class_weight parameter.\n",
            "  warn(\n"
          ]
        },
        {
          "output_type": "stream",
          "name": "stdout",
          "text": [
            "Epoch 04 | n_estimators=40 | Val AP=1.000000\n"
          ]
        },
        {
          "output_type": "stream",
          "name": "stderr",
          "text": [
            "/usr/local/lib/python3.12/dist-packages/sklearn/ensemble/_forest.py:861: UserWarning: class_weight presets \"balanced\" or \"balanced_subsample\" are not recommended for warm_start if the fitted data differs from the full dataset. In order to use \"balanced\" weights, use compute_class_weight (\"balanced\", classes, y). In place of y you can use a large enough sample of the full training set target to properly estimate the class frequency distributions. Pass the resulting weights as the class_weight parameter.\n",
            "  warn(\n"
          ]
        },
        {
          "output_type": "stream",
          "name": "stdout",
          "text": [
            "Epoch 05 | n_estimators=50 | Val AP=1.000000\n"
          ]
        },
        {
          "output_type": "stream",
          "name": "stderr",
          "text": [
            "/usr/local/lib/python3.12/dist-packages/sklearn/ensemble/_forest.py:861: UserWarning: class_weight presets \"balanced\" or \"balanced_subsample\" are not recommended for warm_start if the fitted data differs from the full dataset. In order to use \"balanced\" weights, use compute_class_weight (\"balanced\", classes, y). In place of y you can use a large enough sample of the full training set target to properly estimate the class frequency distributions. Pass the resulting weights as the class_weight parameter.\n",
            "  warn(\n"
          ]
        },
        {
          "output_type": "stream",
          "name": "stdout",
          "text": [
            "Epoch 06 | n_estimators=60 | Val AP=1.000000\n",
            "Early stopping at epoch 6 (best at epoch 1 with AP=1.000000)\n",
            "Training complete. Best epoch=1, Best Val AP=1.000000\n"
          ]
        }
      ]
    },
    {
      "cell_type": "markdown",
      "source": [
        "## 2.3 Print the accuracy of model"
      ],
      "metadata": {
        "id": "tDo-rYJTJShu"
      }
    },
    {
      "cell_type": "code",
      "source": [
        "import numpy as np\n",
        "from sklearn.metrics import (\n",
        "    accuracy_score, precision_score, recall_score, f1_score,\n",
        "    balanced_accuracy_score, roc_auc_score, average_precision_score,\n",
        "    confusion_matrix, classification_report, brier_score_loss, log_loss,\n",
        "    mean_squared_error, r2_score\n",
        ")\n",
        "\n",
        "# Probabilities and class predictions\n",
        "val_proba = rf_model.predict_proba(X_val)[:, 1]\n",
        "test_proba = rf_model.predict_proba(X_test)[:, 1]\n",
        "\n",
        "val_pred = (val_proba >= 0.5).astype(int)\n",
        "test_pred = (test_proba >= 0.5).astype(int)\n",
        "\n",
        "def print_metrics(split_name, y_true, y_pred, y_proba):\n",
        "    # Core classification metrics for imbalanced data\n",
        "    acc  = accuracy_score(y_true, y_pred)\n",
        "    bal  = balanced_accuracy_score(y_true, y_pred)\n",
        "    prec = precision_score(y_true, y_pred, zero_division=0)\n",
        "    rec  = recall_score(y_true, y_pred, zero_division=0)\n",
        "    f1   = f1_score(y_true, y_pred, zero_division=0)\n",
        "    roc  = roc_auc_score(y_true, y_proba) if len(np.unique(y_true)) == 2 else np.nan\n",
        "    ap   = average_precision_score(y_true, y_proba)\n",
        "\n",
        "    # Calibration- and error-like quantities on probabilities\n",
        "    brier = brier_score_loss(y_true, y_proba)\n",
        "    ll    = log_loss(y_true, np.vstack([1 - y_proba, y_proba]).T, labels=[0, 1])\n",
        "\n",
        "    # Regression-style errors on probability targets (non-standard but informative)\n",
        "    mse  = mean_squared_error(y_true, y_proba)\n",
        "    rmse = np.sqrt(mse)\n",
        "    r2   = r2_score(y_true, y_proba)\n",
        "\n",
        "    # Confusion matrix\n",
        "    cm = confusion_matrix(y_true, y_pred, labels=[0, 1])\n",
        "\n",
        "    print(f\"\\n=== {split_name} Metrics ===\")\n",
        "    print(f\"Accuracy:               {acc:.6f}\")\n",
        "    print(f\"Balanced Accuracy:      {bal:.6f}\")\n",
        "    print(f\"Precision (pos=1):      {prec:.6f}\")\n",
        "    print(f\"Recall (pos=1):         {rec:.6f}\")\n",
        "    print(f\"F1 (pos=1):             {f1:.6f}\")\n",
        "    print(f\"ROC AUC:                {roc:.6f}\")\n",
        "    print(f\"Average Precision (AP): {ap:.6f}\")\n",
        "    print(f\"Brier score (prob):     {brier:.6f}\")\n",
        "    print(f\"Log loss:               {ll:.6f}\")\n",
        "    print(f\"MSE (prob vs label):    {mse:.6f}\")\n",
        "    print(f\"RMSE (prob vs label):   {rmse:.6f}\")\n",
        "    print(f\"R2 (prob vs label):     {r2:.6f}\")\n",
        "    print(\"Confusion Matrix [rows=true 0/1, cols=pred 0/1]:\")\n",
        "    print(cm)\n",
        "    print(\"\\nClassification report:\")\n",
        "    print(classification_report(y_true, y_pred, digits=6, zero_division=0))\n",
        "\n",
        "# Print for Validation and Test\n",
        "print_metrics(\"Validation\", y_val, val_pred, val_proba)\n",
        "print_metrics(\"Test\",       y_test, test_pred, test_proba)\n"
      ],
      "metadata": {
        "colab": {
          "base_uri": "https://localhost:8080/"
        },
        "id": "gNBbmNk_JbCV",
        "outputId": "fd0fdea1-4d56-44b3-f97d-9258e154fee7"
      },
      "execution_count": 9,
      "outputs": [
        {
          "output_type": "stream",
          "name": "stdout",
          "text": [
            "\n",
            "=== Validation Metrics ===\n",
            "Accuracy:               1.000000\n",
            "Balanced Accuracy:      1.000000\n",
            "Precision (pos=1):      1.000000\n",
            "Recall (pos=1):         1.000000\n",
            "F1 (pos=1):             1.000000\n",
            "ROC AUC:                1.000000\n",
            "Average Precision (AP): 1.000000\n",
            "Brier score (prob):     0.000007\n",
            "Log loss:               0.000052\n",
            "MSE (prob vs label):    0.000007\n",
            "RMSE (prob vs label):   0.002588\n",
            "R2 (prob vs label):     0.997260\n",
            "Confusion Matrix [rows=true 0/1, cols=pred 0/1]:\n",
            "[[65551     0]\n",
            " [    0   161]]\n",
            "\n",
            "Classification report:\n",
            "              precision    recall  f1-score   support\n",
            "\n",
            "           0   1.000000  1.000000  1.000000     65551\n",
            "           1   1.000000  1.000000  1.000000       161\n",
            "\n",
            "    accuracy                       1.000000     65712\n",
            "   macro avg   1.000000  1.000000  1.000000     65712\n",
            "weighted avg   1.000000  1.000000  1.000000     65712\n",
            "\n",
            "\n",
            "=== Test Metrics ===\n",
            "Accuracy:               1.000000\n",
            "Balanced Accuracy:      1.000000\n",
            "Precision (pos=1):      1.000000\n",
            "Recall (pos=1):         1.000000\n",
            "F1 (pos=1):             1.000000\n",
            "ROC AUC:                1.000000\n",
            "Average Precision (AP): 1.000000\n",
            "Brier score (prob):     0.000007\n",
            "Log loss:               0.000053\n",
            "MSE (prob vs label):    0.000007\n",
            "RMSE (prob vs label):   0.002646\n",
            "R2 (prob vs label):     0.997118\n",
            "Confusion Matrix [rows=true 0/1, cols=pred 0/1]:\n",
            "[[65552     0]\n",
            " [    0   160]]\n",
            "\n",
            "Classification report:\n",
            "              precision    recall  f1-score   support\n",
            "\n",
            "           0   1.000000  1.000000  1.000000     65552\n",
            "           1   1.000000  1.000000  1.000000       160\n",
            "\n",
            "    accuracy                       1.000000     65712\n",
            "   macro avg   1.000000  1.000000  1.000000     65712\n",
            "weighted avg   1.000000  1.000000  1.000000     65712\n",
            "\n"
          ]
        }
      ]
    }
  ]
}