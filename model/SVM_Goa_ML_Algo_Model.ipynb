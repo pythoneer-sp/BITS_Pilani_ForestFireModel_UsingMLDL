{
  "nbformat": 4,
  "nbformat_minor": 0,
  "metadata": {
    "colab": {
      "provenance": []
    },
    "kernelspec": {
      "name": "python3",
      "display_name": "Python 3"
    },
    "language_info": {
      "name": "python"
    }
  },
  "cells": [
    {
      "cell_type": "markdown",
      "source": [
        "# 1. Load data and Import Libraries"
      ],
      "metadata": {
        "id": "Bognx7jyHeDN"
      }
    },
    {
      "cell_type": "code",
      "execution_count": 1,
      "metadata": {
        "id": "8nfvNdyYstE2",
        "colab": {
          "base_uri": "https://localhost:8080/"
        },
        "outputId": "3237c3cf-0642-43dd-84a6-84c5410ec2cf"
      },
      "outputs": [
        {
          "output_type": "stream",
          "name": "stderr",
          "text": [
            "/tmp/ipython-input-1281922565.py:12: DtypeWarning: Columns (12) have mixed types. Specify dtype option on import or set low_memory=False.\n",
            "  mh_fire = pd.read_csv(\"/content/drive/MyDrive/BITS_PILANI_RESEARCH/Data/Data/FSI-Firepoints-100625 MH.csv\", encoding='latin1')\n",
            "/tmp/ipython-input-1281922565.py:17: DtypeWarning: Columns (31) have mixed types. Specify dtype option on import or set low_memory=False.\n",
            "  kerala_weather = pd.read_csv(\"/content/drive/MyDrive/BITS_PILANI_RESEARCH/Data/Data/KERALA_AWS_IMD_data.csv\")\n"
          ]
        }
      ],
      "source": [
        "# Importing libraries\n",
        "\n",
        "import pandas as pd\n",
        "import numpy as np\n",
        "import matplotlib.pyplot as plt\n",
        "import seaborn as sns\n",
        "\n",
        "# Load Firepoints Data\n",
        "\n",
        "goa_fire = pd.read_csv(\"/content/drive/MyDrive/BITS_PILANI_RESEARCH/Data/Data/FSI-Firepoints-100625 Goa.csv\", encoding='latin1')\n",
        "kerala_fire = pd.read_csv(\"/content/drive/MyDrive/BITS_PILANI_RESEARCH/Data/Data/FSI-Firepoints-100625 kerala.csv\", encoding='latin1')\n",
        "mh_fire = pd.read_csv(\"/content/drive/MyDrive/BITS_PILANI_RESEARCH/Data/Data/FSI-Firepoints-100625 MH.csv\", encoding='latin1')\n",
        "\n",
        "# Load weather data\n",
        "\n",
        "goa_weather = pd.read_csv(\"/content/drive/MyDrive/BITS_PILANI_RESEARCH/Data/Data/GOA_AWS_IMD_data.csv\")\n",
        "kerala_weather = pd.read_csv(\"/content/drive/MyDrive/BITS_PILANI_RESEARCH/Data/Data/KERALA_AWS_IMD_data.csv\")\n",
        "mh_weather = pd.read_csv(\"/content/drive/MyDrive/BITS_PILANI_RESEARCH/Data/Data/MAHARASHTRA_AWS_IMD_data.csv\")\n",
        "\n",
        "# Load AWS location\n",
        "\n",
        "aws_locations = pd.read_csv(\"/content/drive/MyDrive/BITS_PILANI_RESEARCH/Data/Data/All AWS Location.csv\")"
      ]
    },
    {
      "cell_type": "code",
      "source": [
        "# Preview the firepoints data\n",
        "print(\"---------------Firepoints data:-----------------\")\n",
        "print(goa_fire.head())\n",
        "\n",
        "\n",
        "# Previw the weather data\n",
        "print(\"----------------Weather data:---------------------\")\n",
        "print(goa_weather.head())\n",
        "\n",
        "# Preview the aws locations\n",
        "print(\"------------------AWS locations:------------------\")\n",
        "print(aws_locations.head())"
      ],
      "metadata": {
        "colab": {
          "base_uri": "https://localhost:8080/"
        },
        "id": "AfnVY-2kW-Fp",
        "outputId": "6d565209-aef7-4f37-eeb7-93f184a3b266"
      },
      "execution_count": 2,
      "outputs": [
        {
          "output_type": "stream",
          "name": "stdout",
          "text": [
            "---------------Firepoints data:-----------------\n",
            "    Fire Date Fire Time Source      Latitude     Longitude State   District  \\\n",
            "0  2021-11-11  02:07:15   SNPP  15° 16' 41\"N  74° 08' 52\"E   GOA  SOUTH GOA   \n",
            "1  2021-12-03  01:54:57   SNPP  15° 16' 42\"N  74° 08' 52\"E   GOA  SOUTH GOA   \n",
            "2  2021-12-17  02:32:19   SNPP  15° 22' 22\"N  74° 08' 28\"E   GOA  SOUTH GOA   \n",
            "3  2021-12-18  02:13:23   SNPP  15° 16' 38\"N  74° 08' 58\"E   GOA  SOUTH GOA   \n",
            "4  2022-01-11  14:12:49   SNPP  15° 44' 51\"N  73° 52' 45\"E   GOA  NORTH GOA   \n",
            "\n",
            "              Circle                       Division          Range  \\\n",
            "0  TERITORIAL CIRCLE  SOUTH GOA TERITORIAL DIVISION  SANGUEM RANGE   \n",
            "1  TERITORIAL CIRCLE  SOUTH GOA TERITORIAL DIVISION  SANGUEM RANGE   \n",
            "2  TERITORIAL CIRCLE  NORTH GOA TERITORIAL DIVISION    COLEM RANGE   \n",
            "3  TERITORIAL CIRCLE  SOUTH GOA TERITORIAL DIVISION  SANGUEM RANGE   \n",
            "4  TERITORIAL CIRCLE  NORTH GOA TERITORIAL DIVISION   PERNEM RANGE   \n",
            "\n",
            "  Block/Section/Round            Beat  Forest Block  Compartment No  \\\n",
            "0      KIRLAPAL BLOCK  SANVORDEM BEAT           NaN             NaN   \n",
            "1      KIRLAPAL BLOCK  SANVORDEM BEAT           NaN             NaN   \n",
            "2   DHARBANDORA BLOCK   TATODI 2 BEAT           NaN             NaN   \n",
            "3      KIRLAPAL BLOCK  SANVORDEM BEAT           NaN             NaN   \n",
            "4        PERNEM BLOCK    CHANDEL BEAT           NaN             NaN   \n",
            "\n",
            "   Unnamed: 14  \n",
            "0          NaN  \n",
            "1          NaN  \n",
            "2          NaN  \n",
            "3          NaN  \n",
            "4          NaN  \n",
            "----------------Weather data:---------------------\n",
            "   S NO.   DISTRICT STATION DATE(YYYY-MM-DD) TIME (UTC)  \\\n",
            "0      1  NORTH_GOA  PANAJI       2018-01-01   05:00:00   \n",
            "1      2  NORTH_GOA  PANAJI       2018-01-01   06:00:00   \n",
            "2      3  NORTH_GOA  PANAJI       2018-01-01   07:00:00   \n",
            "3      4  NORTH_GOA  PANAJI       2018-01-01   08:00:00   \n",
            "4      5  NORTH_GOA  PANAJI       2018-01-01   09:00:00   \n",
            "\n",
            "   RAIN FALL CUM. SINCE 0300 UTC (mm)  TEMP. ('C)  TEMP DAY MIN. ('C)  \\\n",
            "0                                 0.0        28.7                 NaN   \n",
            "1                                 0.0        30.3                 NaN   \n",
            "2                                 0.0         NaN                 NaN   \n",
            "3                                 0.0        31.8                 NaN   \n",
            "4                                 0.0        31.3                 NaN   \n",
            "\n",
            "   TEMP DAY MAX. ('C)  RH (%)  ...  SOIL TEMP 30 cm ('C)  \\\n",
            "0                 NaN    51.0  ...                   NaN   \n",
            "1                 NaN    48.0  ...                   NaN   \n",
            "2                 NaN    41.0  ...                   NaN   \n",
            "3                 NaN    42.0  ...                   NaN   \n",
            "4                 NaN    46.0  ...                   NaN   \n",
            "\n",
            "   SOIL MOIS 30 cm (m3 / m3)  SOIL TEMP 70 cm ('C)  SOIL MOIS 70 cm (m3 / m3)  \\\n",
            "0                        NaN                   NaN                        NaN   \n",
            "1                        NaN                   NaN                        NaN   \n",
            "2                        NaN                   NaN                        NaN   \n",
            "3                        NaN                   NaN                        NaN   \n",
            "4                        NaN                   NaN                        NaN   \n",
            "\n",
            "   SOIL TEMP 100 cm ('C)  SOIL MOIS 100 cm (m3 / m3)  \\\n",
            "0                    NaN                         NaN   \n",
            "1                    NaN                         NaN   \n",
            "2                    NaN                         NaN   \n",
            "3                    NaN                         NaN   \n",
            "4                    NaN                         NaN   \n",
            "\n",
            "   GLOBAL RAD IATION (v / m2)  PAR (micro - mole / m2s)  BATTERY (Volts)  GPS  \n",
            "0                         NaN                       NaN             13.5    L  \n",
            "1                         NaN                       NaN             14.0    L  \n",
            "2                         NaN                       NaN             13.8    L  \n",
            "3                         NaN                       NaN             13.8    L  \n",
            "4                         NaN                       NaN             12.6    L  \n",
            "\n",
            "[5 rows x 32 columns]\n",
            "------------------AWS locations:------------------\n",
            "   S NO. STATE   DISTRICT                       STATION  TYPE  LATITUDE  \\\n",
            "0    429   GOA  NORTH_GOA             ELA_NORTH GOA_KVK  AGRO   15.4893   \n",
            "1    430   GOA  NORTH_GOA  GOA_STATE_BIODIVERSITY_BOARD   AWS   15.5345   \n",
            "2    431   GOA  NORTH_GOA                        MAPUSA   ARG   15.5900   \n",
            "3    432   GOA  NORTH_GOA                       OLD_GOA   ARG   15.4800   \n",
            "4    433   GOA  NORTH_GOA                        PANAJI   AWS   15.4922   \n",
            "\n",
            "   LONGITUDE  ALTITUDE  \n",
            "0    73.9196      59.3  \n",
            "1    73.7916     100.0  \n",
            "2    73.8100       NaN  \n",
            "3    73.9200       NaN  \n",
            "4    73.8251      56.0  \n"
          ]
        }
      ]
    },
    {
      "cell_type": "code",
      "source": [
        "import geopandas as gpd\n",
        "\n",
        "# Load the shape file\n",
        "protect_area = gpd.read_file(\"/content/drive/MyDrive/BITS_PILANI_RESEARCH/Data/Data/shp/Protect_area.shp\")\n",
        "\n",
        "# Prview spatial data\n",
        "print(protect_area.head())\n",
        "protect_area.plot()"
      ],
      "metadata": {
        "colab": {
          "base_uri": "https://localhost:8080/",
          "height": 534
        },
        "id": "Gh2v3j52XXoE",
        "outputId": "fee356e0-a6ef-4be2-dc60-9b5f8939984c"
      },
      "execution_count": 3,
      "outputs": [
        {
          "output_type": "stream",
          "name": "stdout",
          "text": [
            "      osm_id                              name                Type State  \\\n",
            "0  202271962  Chorao Island (Dr.Salim Ali) WLS  Wildlife Sanctuary   Goa   \n",
            "\n",
            "   Year  Area  feature_id                                           geometry  \n",
            "0  1988  1.78          62  MULTIPOLYGON (((74.09407 15.45244, 74.10334 15...  \n"
          ]
        },
        {
          "output_type": "execute_result",
          "data": {
            "text/plain": [
              "<Axes: >"
            ]
          },
          "metadata": {},
          "execution_count": 3
        },
        {
          "output_type": "display_data",
          "data": {
            "text/plain": [
              "<Figure size 640x480 with 1 Axes>"
            ],
            "image/png": "[encoded data removed]"
          },
          "metadata": {}
        }
      ]
    },
    {
      "cell_type": "markdown",
      "source": [
        "# 2. Data Cleaning and Preprocessing"
      ],
      "metadata": {
        "id": "mT_oYFbihZMX"
      }
    },
    {
      "cell_type": "markdown",
      "source": [
        " ## 2.1 Handling missing values in firespoints data"
      ],
      "metadata": {
        "id": "DIlMF61yH9FI"
      }
    },
    {
      "cell_type": "code",
      "source": [
        "# Checking missing values in firepoints\n",
        "\n",
        "print(\"Missing values in Goa Firepoints:\\n\", goa_fire.isnull().sum())\n",
        "print(\"Missing values in Kerala Firepoints:\\n\", kerala_fire.isnull().sum())\n",
        "print(\"Missing values in MH Firepoints:\\n\", mh_fire.isnull().sum())"
      ],
      "metadata": {
        "colab": {
          "base_uri": "https://localhost:8080/"
        },
        "id": "1rvuH17IYgZn",
        "outputId": "908ba94c-ce2a-4e3a-c310-43721663b308"
      },
      "execution_count": 4,
      "outputs": [
        {
          "output_type": "stream",
          "name": "stdout",
          "text": [
            "Missing values in Goa Firepoints:\n",
            " Fire Date                0\n",
            "Fire Time                0\n",
            "Source                   0\n",
            "Latitude                 0\n",
            "Longitude                0\n",
            "State                    0\n",
            "District                 0\n",
            "Circle                   0\n",
            "Division                 0\n",
            "Range                    0\n",
            "Block/Section/Round      0\n",
            "Beat                     0\n",
            "Forest Block           237\n",
            "Compartment No         237\n",
            "Unnamed: 14            237\n",
            "dtype: int64\n",
            "Missing values in Kerala Firepoints:\n",
            " Fire Date                 0\n",
            "Fire Time                 0\n",
            "Source                    0\n",
            "Latitude                  0\n",
            "Longitude                 0\n",
            "State                     0\n",
            "District                  0\n",
            "Circle                    0\n",
            "Division                  0\n",
            "Range                     0\n",
            "Block/Section/Round    3410\n",
            "Beat                   3410\n",
            "Forest Block           3410\n",
            "Compartment No         3410\n",
            "Unnamed: 14            3410\n",
            "dtype: int64\n",
            "Missing values in MH Firepoints:\n",
            " Fire Date                  0\n",
            "Fire Time                  0\n",
            "Source                     0\n",
            "Latitude                   0\n",
            "Longitude                  0\n",
            "State                      0\n",
            "District                   0\n",
            "Circle                     0\n",
            "Division                   0\n",
            "Range                      4\n",
            "Block/Section/Round       15\n",
            "Beat                      19\n",
            "Forest Block           73100\n",
            "Compartment No          1772\n",
            "Unnamed: 14            73222\n",
            "dtype: int64\n"
          ]
        }
      ]
    },
    {
      "cell_type": "code",
      "source": [
        "# Drop the unnamed:14 which is a junk column in every firepoints\n",
        "\n",
        "goa_fire.drop(columns=['Unnamed: 14'], inplace=True)\n",
        "kerala_fire.drop(columns=['Unnamed: 14'], inplace=True)\n",
        "mh_fire.drop(columns=['Unnamed: 14'], inplace=True)"
      ],
      "metadata": {
        "id": "UTH9lj3fhDuu"
      },
      "execution_count": 5,
      "outputs": []
    },
    {
      "cell_type": "code",
      "source": [
        "# Drop Forest Block, Compartment number columns\n",
        "\n",
        "goa_fire.drop(columns=['Forest Block', 'Compartment No'], inplace=True)\n",
        "kerala_fire.drop(columns=['Forest Block', 'Compartment No'], inplace=True)\n",
        "mh_fire.drop(columns=['Forest Block', 'Compartment No'], inplace=True)\n",
        "\n",
        "# Drop Block/Section/Round and Beat column in Kerla\n",
        "kerala_fire.drop(columns=['Block/Section/Round', 'Beat'], inplace=True)\n",
        "\n",
        "# Drop nan rows of Range, Beat, Block/Section/Round column in MH\n",
        "mh_fire.dropna(subset=['Range', 'Beat', 'Block/Section/Round'], inplace=True)"
      ],
      "metadata": {
        "id": "letmslHEhrQ4"
      },
      "execution_count": 6,
      "outputs": []
    },
    {
      "cell_type": "markdown",
      "source": [
        "## 2.2 Handling misssing values in Weather and AWS data"
      ],
      "metadata": {
        "id": "tQ3xEsXdIJlf"
      }
    },
    {
      "cell_type": "code",
      "source": [
        "# Checking Missing values in weather data\n",
        "\n",
        "print(\"Missing values in Goa Weather data:\\n\", goa_weather.isnull().sum(),\"\\n\")\n",
        "print(\"Missing values in Kerala Weather data:\\n\", kerala_weather.isnull().sum(),\"\\n\")\n",
        "print(\"Missing values in MH Weather data:\\n\", mh_weather.isnull().sum(),\"\\n\")\n",
        "\n",
        "# Checking missing values in aws data\n",
        "print(\"Missing values in AWS Locations:\\n\", aws_locations.isnull().sum(),\"\\n\")"
      ],
      "metadata": {
        "colab": {
          "base_uri": "https://localhost:8080/"
        },
        "id": "Sh4FstGWhkTO",
        "outputId": "11d47d7d-bf96-4170-d240-4ac12176e52a"
      },
      "execution_count": 7,
      "outputs": [
        {
          "output_type": "stream",
          "name": "stdout",
          "text": [
            "Missing values in Goa Weather data:\n",
            " S NO.                                      0\n",
            "DISTRICT                                   0\n",
            "STATION                                    0\n",
            "DATE(YYYY-MM-DD)                           0\n",
            "TIME (UTC)                                 0\n",
            "RAIN FALL CUM. SINCE 0300 UTC (mm)        97\n",
            "TEMP. ('C)                             44456\n",
            "TEMP DAY MIN. ('C)                    583613\n",
            "TEMP DAY MAX. ('C)                    583394\n",
            "RH (%)                                 69077\n",
            "RH DAY MIN MAX (%)                    585385\n",
            "WIND DIR 10 m (Deg)                    13925\n",
            "WIND SPEED 10 m (Kt)                   13925\n",
            "WIND SPEED MAX / GUST 10 m (Kt)        82623\n",
            "WIND DIR 3 m (Deg)                    398066\n",
            "WIND SPEED 3 m (Kt)                   398066\n",
            "WIND SPEED MAX / GUST 3 m (Kt)        398066\n",
            "SLP (hPa)                             260680\n",
            "MSLP (hPa / gpm)                      260680\n",
            "SUN SHINE (HH.MM)                     349042\n",
            "SOIL TEMP 10 cm ('C)                  399386\n",
            "SOIL MOIS 10 cm (m3 / m3)             395938\n",
            "SOIL TEMP 30 cm ('C)                  398603\n",
            "SOIL MOIS 30 cm (m3 / m3)             412452\n",
            "SOIL TEMP 70 cm ('C)                  413068\n",
            "SOIL MOIS 70 cm (m3 / m3)             435655\n",
            "SOIL TEMP 100 cm ('C)                 398564\n",
            "SOIL MOIS 100 cm (m3 / m3)            406926\n",
            "GLOBAL RAD IATION (v / m2)            500680\n",
            "PAR (micro - mole / m2s)              589451\n",
            "BATTERY (Volts)                            0\n",
            "GPS                                        0\n",
            "dtype: int64 \n",
            "\n",
            "Missing values in Kerala Weather data:\n",
            " S NO.                                       0\n",
            "DISTRICT                                    0\n",
            "STATION                                     0\n",
            "DATE(YYYY-MM-DD)                            0\n",
            "TIME (UTC)                                  0\n",
            "RAIN FALL CUM. SINCE 0300 UTC (mm)       4780\n",
            "TEMP. ('C)                              56592\n",
            "TEMP DAY MIN. ('C)                    1938860\n",
            "TEMP DAY MAX. ('C)                    1938860\n",
            "RH (%)                                 101713\n",
            "RH DAY MIN MAX (%)                    1938860\n",
            "WIND DIR 10 m (Deg)                     43375\n",
            "WIND SPEED 10 m (Kt)                    42772\n",
            "WIND SPEED MAX / GUST 10 m (Kt)         76406\n",
            "WIND DIR 3 m (Deg)                    1863560\n",
            "WIND SPEED 3 m (Kt)                   1863560\n",
            "WIND SPEED MAX / GUST 3 m (Kt)        1863560\n",
            "SLP (hPa)                              103432\n",
            "MSLP (hPa / gpm)                       106025\n",
            "SUN SHINE (HH.MM)                     1855945\n",
            "SOIL TEMP 10 cm ('C)                  1880128\n",
            "SOIL MOIS 10 cm (m3 / m3)             1873181\n",
            "SOIL TEMP 30 cm ('C)                  1872388\n",
            "SOIL MOIS 30 cm (m3 / m3)             1876712\n",
            "SOIL TEMP 70 cm ('C)                  1877702\n",
            "SOIL MOIS 70 cm (m3 / m3)             1878443\n",
            "SOIL TEMP 100 cm ('C)                 1875228\n",
            "SOIL MOIS 100 cm (m3 / m3)            1882672\n",
            "GLOBAL RAD IATION (v / m2)            1925927\n",
            "PAR (micro - mole / m2s)              1938860\n",
            "BATTERY (Volts)                          4188\n",
            "GPS                                    257676\n",
            "dtype: int64 \n",
            "\n",
            "Missing values in MH Weather data:\n",
            " S NO.                                       0\n",
            "DISTRICT                                    0\n",
            "STATION                                     0\n",
            "DATE(YYYY-MM-DD)                            0\n",
            "TIME (UTC)                                  0\n",
            "RAIN FALL CUM. SINCE 0300 UTC (mm)       5003\n",
            "TEMP. ('C)                              63904\n",
            "TEMP DAY MIN. ('C)                    1376228\n",
            "TEMP DAY MAX. ('C)                    1376228\n",
            "RH (%)                                  77060\n",
            "RH DAY MIN MAX (%)                    1376228\n",
            "WIND DIR 10 m (Deg)                     54558\n",
            "WIND SPEED 10 m (Kt)                    54561\n",
            "WIND SPEED MAX / GUST 10 m (Kt)        347858\n",
            "WIND DIR 3 m (Deg)                    1115303\n",
            "WIND SPEED 3 m (Kt)                   1115303\n",
            "WIND SPEED MAX / GUST 3 m (Kt)        1131008\n",
            "SLP (hPa)                              332566\n",
            "MSLP (hPa / gpm)                       333962\n",
            "SUN SHINE (HH.MM)                      871791\n",
            "SOIL TEMP 10 cm ('C)                  1118892\n",
            "SOIL MOIS 10 cm (m3 / m3)             1126999\n",
            "SOIL TEMP 30 cm ('C)                  1144909\n",
            "SOIL MOIS 30 cm (m3 / m3)             1144686\n",
            "SOIL TEMP 70 cm ('C)                  1142856\n",
            "SOIL MOIS 70 cm (m3 / m3)             1157090\n",
            "SOIL TEMP 100 cm ('C)                 1156372\n",
            "SOIL MOIS 100 cm (m3 / m3)            1150966\n",
            "GLOBAL RAD IATION (v / m2)            1288755\n",
            "PAR (micro - mole / m2s)              1376228\n",
            "BATTERY (Volts)                             0\n",
            "GPS                                        55\n",
            "dtype: int64 \n",
            "\n",
            "Missing values in AWS Locations:\n",
            " S NO.        0\n",
            "STATE        0\n",
            "DISTRICT     0\n",
            "STATION      0\n",
            "TYPE         0\n",
            "LATITUDE     0\n",
            "LONGITUDE    0\n",
            "ALTITUDE     6\n",
            "dtype: int64 \n",
            "\n"
          ]
        }
      ]
    },
    {
      "cell_type": "code",
      "source": [
        "# Fill missing numeric values with column-wise mean for weather datas\n",
        "goa_weather = goa_weather.apply(\n",
        "    lambda col: col.fillna(col.mean()) if col.dtype != 'O' else col\n",
        ")\n",
        "\n",
        "kerala_weather = kerala_weather.apply(\n",
        "    lambda col: col.fillna(col.mean()) if col.dtype != 'O' else col\n",
        ")\n",
        "mh_weather = mh_weather.apply(\n",
        "    lambda col: col.fillna(col.mean()) if col.dtype != 'O' else col\n",
        ")"
      ],
      "metadata": {
        "id": "Tphf5xqqHBtI"
      },
      "execution_count": 8,
      "outputs": []
    },
    {
      "cell_type": "markdown",
      "source": [
        "### 2.2.1 Missing values in weather data using interpolation"
      ],
      "metadata": {
        "id": "zSffmv6cIWj3"
      }
    },
    {
      "cell_type": "code",
      "source": [
        "# Interpolation for Goa weather data\n",
        "\n",
        "# Convert date to datetime if not already\n",
        "goa_weather['DATE(YYYY-MM-DD)'] = pd.to_datetime(goa_weather['DATE(YYYY-MM-DD)'])\n",
        "goa_weather = goa_weather.sort_values(['STATION', 'DATE(YYYY-MM-DD)', 'TIME (UTC)'])\n",
        "\n",
        "# List columns to interpolate (excluding the already dropped columns)\n",
        "interp_cols = [\"RAIN FALL CUM. SINCE 0300 UTC (mm)\", \"TEMP. ('C)\", \"RH (%)\", \"WIND DIR 10 m (Deg)\", \"WIND SPEED 10 m (Kt)\"]\n",
        "\n",
        "# Interpolate each station's time series individually\n",
        "for col in interp_cols:\n",
        "    goa_weather[col] = (\n",
        "        goa_weather.groupby('STATION')[col]\n",
        "        .apply(lambda group: group.interpolate(method='linear'))\n",
        "        .reset_index(level=0, drop=True)\n",
        "    )"
      ],
      "metadata": {
        "id": "Ip6fKEU-XRUM"
      },
      "execution_count": 9,
      "outputs": []
    },
    {
      "cell_type": "code",
      "source": [
        "# Interpolation for Maharastra weather data\n",
        "\n",
        "# Convert date to datetime if not already\n",
        "mh_weather['DATE(YYYY-MM-DD)'] = pd.to_datetime(mh_weather['DATE(YYYY-MM-DD)'])\n",
        "mh_weather = mh_weather.sort_values(['STATION', 'DATE(YYYY-MM-DD)', 'TIME (UTC)'])\n",
        "\n",
        "# List columns to interpolate (excluding the already dropped columns)\n",
        "interp_cols = [\"RAIN FALL CUM. SINCE 0300 UTC (mm)\", \"TEMP. ('C)\", \"RH (%)\", \"WIND DIR 10 m (Deg)\", \"WIND SPEED 10 m (Kt)\"]\n",
        "\n",
        "# Interpolate each station's time series individually\n",
        "for col in interp_cols:\n",
        "    mh_weather[col] = (\n",
        "        mh_weather.groupby('STATION')[col]\n",
        "        .apply(lambda group: group.interpolate(method='linear'))\n",
        "        .reset_index(level=0, drop=True)\n",
        "    )\n"
      ],
      "metadata": {
        "id": "3B_F6Y94Xyjc"
      },
      "execution_count": 10,
      "outputs": []
    },
    {
      "cell_type": "code",
      "source": [
        "# Interpolation for Kerala weather data\n",
        "\n",
        "# Remove rows with invalid date strings\n",
        "kerala_weather = kerala_weather[kerala_weather['DATE(YYYY-MM-DD)'].str.match(r\"^\\d{4}-(0[1-9]|1[0-2])-(0[1-9]|[12]\\d|3[01])$\")]\n",
        "\n",
        "kerala_weather = kerala_weather.sort_values(['STATION', 'DATE(YYYY-MM-DD)', 'TIME (UTC)'])\n",
        "\n",
        "interp_cols = [\"RAIN FALL CUM. SINCE 0300 UTC (mm)\", \"TEMP. ('C)\", \"RH (%)\", \"WIND DIR 10 m (Deg)\", \"WIND SPEED 10 m (Kt)\"]\n",
        "\n",
        "# Interpolate each station's time series individually\n",
        "for col in interp_cols:\n",
        "    kerala_weather[col] = (\n",
        "        kerala_weather.groupby('STATION')[col]\n",
        "        .apply(lambda group: group.interpolate(method='linear'))\n",
        "        .reset_index(level=0, drop=True)\n",
        "    )\n"
      ],
      "metadata": {
        "id": "j2aAigNrNz5f"
      },
      "execution_count": 11,
      "outputs": []
    },
    {
      "cell_type": "code",
      "source": [
        "# Verifying Missing values in weather data\n",
        "\n",
        "print(\"Missing values in Goa Weather data:\\n\", goa_weather.isnull().sum(),\"\\n\")\n",
        "print(\"Missing values in Kerala Weather data:\\n\", kerala_weather.isnull().sum(),\"\\n\")\n",
        "print(\"Missing values in MH Weather data:\\n\", mh_weather.isnull().sum(),\"\\n\")"
      ],
      "metadata": {
        "colab": {
          "base_uri": "https://localhost:8080/"
        },
        "id": "LxvZWXuXI5II",
        "outputId": "d70857a0-e8dc-4977-a435-ff274faa3c51"
      },
      "execution_count": 12,
      "outputs": [
        {
          "output_type": "stream",
          "name": "stdout",
          "text": [
            "Missing values in Goa Weather data:\n",
            " S NO.                                      0\n",
            "DISTRICT                                   0\n",
            "STATION                                    0\n",
            "DATE(YYYY-MM-DD)                           0\n",
            "TIME (UTC)                                 0\n",
            "RAIN FALL CUM. SINCE 0300 UTC (mm)         0\n",
            "TEMP. ('C)                                 0\n",
            "TEMP DAY MIN. ('C)                         0\n",
            "TEMP DAY MAX. ('C)                         0\n",
            "RH (%)                                     0\n",
            "RH DAY MIN MAX (%)                         0\n",
            "WIND DIR 10 m (Deg)                        0\n",
            "WIND SPEED 10 m (Kt)                       0\n",
            "WIND SPEED MAX / GUST 10 m (Kt)            0\n",
            "WIND DIR 3 m (Deg)                         0\n",
            "WIND SPEED 3 m (Kt)                        0\n",
            "WIND SPEED MAX / GUST 3 m (Kt)             0\n",
            "SLP (hPa)                                  0\n",
            "MSLP (hPa / gpm)                           0\n",
            "SUN SHINE (HH.MM)                          0\n",
            "SOIL TEMP 10 cm ('C)                       0\n",
            "SOIL MOIS 10 cm (m3 / m3)                  0\n",
            "SOIL TEMP 30 cm ('C)                       0\n",
            "SOIL MOIS 30 cm (m3 / m3)                  0\n",
            "SOIL TEMP 70 cm ('C)                       0\n",
            "SOIL MOIS 70 cm (m3 / m3)                  0\n",
            "SOIL TEMP 100 cm ('C)                      0\n",
            "SOIL MOIS 100 cm (m3 / m3)                 0\n",
            "GLOBAL RAD IATION (v / m2)                 0\n",
            "PAR (micro - mole / m2s)              589451\n",
            "BATTERY (Volts)                            0\n",
            "GPS                                        0\n",
            "dtype: int64 \n",
            "\n",
            "Missing values in Kerala Weather data:\n",
            " S NO.                                       0\n",
            "DISTRICT                                    0\n",
            "STATION                                     0\n",
            "DATE(YYYY-MM-DD)                            0\n",
            "TIME (UTC)                                  0\n",
            "RAIN FALL CUM. SINCE 0300 UTC (mm)          0\n",
            "TEMP. ('C)                                  0\n",
            "TEMP DAY MIN. ('C)                    1938858\n",
            "TEMP DAY MAX. ('C)                    1938858\n",
            "RH (%)                                      0\n",
            "RH DAY MIN MAX (%)                    1938858\n",
            "WIND DIR 10 m (Deg)                         0\n",
            "WIND SPEED 10 m (Kt)                        0\n",
            "WIND SPEED MAX / GUST 10 m (Kt)             0\n",
            "WIND DIR 3 m (Deg)                          0\n",
            "WIND SPEED 3 m (Kt)                         0\n",
            "WIND SPEED MAX / GUST 3 m (Kt)              0\n",
            "SLP (hPa)                                   0\n",
            "MSLP (hPa / gpm)                            0\n",
            "SUN SHINE (HH.MM)                           0\n",
            "SOIL TEMP 10 cm ('C)                        0\n",
            "SOIL MOIS 10 cm (m3 / m3)                   0\n",
            "SOIL TEMP 30 cm ('C)                        0\n",
            "SOIL MOIS 30 cm (m3 / m3)                   0\n",
            "SOIL TEMP 70 cm ('C)                        0\n",
            "SOIL MOIS 70 cm (m3 / m3)                   0\n",
            "SOIL TEMP 100 cm ('C)                       0\n",
            "SOIL MOIS 100 cm (m3 / m3)                  0\n",
            "GLOBAL RAD IATION (v / m2)                  0\n",
            "PAR (micro - mole / m2s)              1938858\n",
            "BATTERY (Volts)                             0\n",
            "GPS                                    257676\n",
            "dtype: int64 \n",
            "\n",
            "Missing values in MH Weather data:\n",
            " S NO.                                       0\n",
            "DISTRICT                                    0\n",
            "STATION                                     0\n",
            "DATE(YYYY-MM-DD)                            0\n",
            "TIME (UTC)                                  0\n",
            "RAIN FALL CUM. SINCE 0300 UTC (mm)          0\n",
            "TEMP. ('C)                                  0\n",
            "TEMP DAY MIN. ('C)                    1376228\n",
            "TEMP DAY MAX. ('C)                    1376228\n",
            "RH (%)                                      0\n",
            "RH DAY MIN MAX (%)                    1376228\n",
            "WIND DIR 10 m (Deg)                         0\n",
            "WIND SPEED 10 m (Kt)                        0\n",
            "WIND SPEED MAX / GUST 10 m (Kt)             0\n",
            "WIND DIR 3 m (Deg)                          0\n",
            "WIND SPEED 3 m (Kt)                         0\n",
            "WIND SPEED MAX / GUST 3 m (Kt)              0\n",
            "SLP (hPa)                                   0\n",
            "MSLP (hPa / gpm)                            0\n",
            "SUN SHINE (HH.MM)                           0\n",
            "SOIL TEMP 10 cm ('C)                        0\n",
            "SOIL MOIS 10 cm (m3 / m3)                   0\n",
            "SOIL TEMP 30 cm ('C)                        0\n",
            "SOIL MOIS 30 cm (m3 / m3)                   0\n",
            "SOIL TEMP 70 cm ('C)                        0\n",
            "SOIL MOIS 70 cm (m3 / m3)                   0\n",
            "SOIL TEMP 100 cm ('C)                       0\n",
            "SOIL MOIS 100 cm (m3 / m3)                  0\n",
            "GLOBAL RAD IATION (v / m2)                  0\n",
            "PAR (micro - mole / m2s)              1376228\n",
            "BATTERY (Volts)                             0\n",
            "GPS                                        55\n",
            "dtype: int64 \n",
            "\n"
          ]
        }
      ]
    },
    {
      "cell_type": "code",
      "source": [
        "# Print the data head\n",
        "print(goa_fire.head())\n",
        "\n",
        "# Print the weather data head after cleaning the data\n",
        "print(\"-0--------------------------\\n\")\n",
        "print(\"GOA WEATHER DATA AFTER CLEANING:-\\n\")\n",
        "print(goa_weather.head())"
      ],
      "metadata": {
        "colab": {
          "base_uri": "https://localhost:8080/"
        },
        "id": "PDLYBvZ72UoO",
        "outputId": "8b6c5aad-69b7-4861-ee88-aca59bfbb93c"
      },
      "execution_count": 13,
      "outputs": [
        {
          "output_type": "stream",
          "name": "stdout",
          "text": [
            "    Fire Date Fire Time Source      Latitude     Longitude State   District  \\\n",
            "0  2021-11-11  02:07:15   SNPP  15° 16' 41\"N  74° 08' 52\"E   GOA  SOUTH GOA   \n",
            "1  2021-12-03  01:54:57   SNPP  15° 16' 42\"N  74° 08' 52\"E   GOA  SOUTH GOA   \n",
            "2  2021-12-17  02:32:19   SNPP  15° 22' 22\"N  74° 08' 28\"E   GOA  SOUTH GOA   \n",
            "3  2021-12-18  02:13:23   SNPP  15° 16' 38\"N  74° 08' 58\"E   GOA  SOUTH GOA   \n",
            "4  2022-01-11  14:12:49   SNPP  15° 44' 51\"N  73° 52' 45\"E   GOA  NORTH GOA   \n",
            "\n",
            "              Circle                       Division          Range  \\\n",
            "0  TERITORIAL CIRCLE  SOUTH GOA TERITORIAL DIVISION  SANGUEM RANGE   \n",
            "1  TERITORIAL CIRCLE  SOUTH GOA TERITORIAL DIVISION  SANGUEM RANGE   \n",
            "2  TERITORIAL CIRCLE  NORTH GOA TERITORIAL DIVISION    COLEM RANGE   \n",
            "3  TERITORIAL CIRCLE  SOUTH GOA TERITORIAL DIVISION  SANGUEM RANGE   \n",
            "4  TERITORIAL CIRCLE  NORTH GOA TERITORIAL DIVISION   PERNEM RANGE   \n",
            "\n",
            "  Block/Section/Round            Beat  \n",
            "0      KIRLAPAL BLOCK  SANVORDEM BEAT  \n",
            "1      KIRLAPAL BLOCK  SANVORDEM BEAT  \n",
            "2   DHARBANDORA BLOCK   TATODI 2 BEAT  \n",
            "3      KIRLAPAL BLOCK  SANVORDEM BEAT  \n",
            "4        PERNEM BLOCK    CHANDEL BEAT  \n",
            "-0--------------------------\n",
            "\n",
            "GOA WEATHER DATA AFTER CLEANING:-\n",
            "\n",
            "        S NO. DISTRICT            STATION DATE(YYYY-MM-DD) TIME (UTC)  \\\n",
            "506100  37809   PANAJI  ALTINHO_IMDOFFICE       2024-04-25   10:00:00   \n",
            "506101  37810   PANAJI  ALTINHO_IMDOFFICE       2024-04-25   10:15:00   \n",
            "506102  37811   PANAJI  ALTINHO_IMDOFFICE       2024-04-25   10:30:00   \n",
            "506103  37812   PANAJI  ALTINHO_IMDOFFICE       2024-04-25   10:45:00   \n",
            "506104  37813   PANAJI  ALTINHO_IMDOFFICE       2024-04-25   11:00:00   \n",
            "\n",
            "        RAIN FALL CUM. SINCE 0300 UTC (mm)  TEMP. ('C)  TEMP DAY MIN. ('C)  \\\n",
            "506100                                 0.0   27.098826           23.425728   \n",
            "506101                                 0.0   27.098826           23.425728   \n",
            "506102                                 0.0   27.098826           23.425728   \n",
            "506103                                 0.0   27.098826           23.425728   \n",
            "506104                                 0.0   27.098826           23.425728   \n",
            "\n",
            "        TEMP DAY MAX. ('C)     RH (%)  ...  SOIL TEMP 30 cm ('C)  \\\n",
            "506100           31.740664  81.085913  ...             27.050858   \n",
            "506101           31.740664  81.085913  ...             27.050858   \n",
            "506102           31.740664  81.085913  ...             27.050858   \n",
            "506103           31.740664  81.085913  ...             27.050858   \n",
            "506104           31.740664  81.085913  ...             27.050858   \n",
            "\n",
            "        SOIL MOIS 30 cm (m3 / m3)  SOIL TEMP 70 cm ('C)  \\\n",
            "506100                  50.021605             29.325119   \n",
            "506101                  50.021605             29.325119   \n",
            "506102                  50.021605             29.325119   \n",
            "506103                  50.021605             29.325119   \n",
            "506104                  50.021605             29.325119   \n",
            "\n",
            "        SOIL MOIS 70 cm (m3 / m3)  SOIL TEMP 100 cm ('C)  \\\n",
            "506100                  46.805977               28.58144   \n",
            "506101                  46.805977               28.58144   \n",
            "506102                  46.805977               28.58144   \n",
            "506103                  46.805977               28.58144   \n",
            "506104                  46.805977               28.58144   \n",
            "\n",
            "        SOIL MOIS 100 cm (m3 / m3)  GLOBAL RAD IATION (v / m2)  \\\n",
            "506100                   29.872445                    0.000264   \n",
            "506101                   29.872445                    0.000264   \n",
            "506102                   29.872445                    0.000264   \n",
            "506103                   29.872445                    0.000264   \n",
            "506104                   29.872445                    0.000264   \n",
            "\n",
            "        PAR (micro - mole / m2s)  BATTERY (Volts)  GPS  \n",
            "506100                       NaN             12.3    L  \n",
            "506101                       NaN             12.3    L  \n",
            "506102                       NaN             12.3    L  \n",
            "506103                       NaN             12.3    L  \n",
            "506104                       NaN             12.3    L  \n",
            "\n",
            "[5 rows x 32 columns]\n"
          ]
        }
      ]
    },
    {
      "cell_type": "markdown",
      "source": [
        "## 2.3 Convert Coordinates"
      ],
      "metadata": {
        "id": "AxcO-eUi9ZUz"
      }
    },
    {
      "cell_type": "code",
      "source": [
        "import re\n",
        "\n",
        "def dms_to_decimal(dms_str):\n",
        "    # Regex pattern to capture degrees, minutes, seconds, direction with optional spaces and both types of quotes\n",
        "    pattern = r\"(\\d+)°\\s*(\\d+)'?\\s*(\\d+)(?:\\\"|”)?\\s*([NSEW])\"\n",
        "    match = re.match(pattern, dms_str.strip())\n",
        "    if not match:\n",
        "        return None\n",
        "    degrees, minutes, seconds, direction = match.groups()\n",
        "    dec = float(degrees) + float(minutes)/60 + float(seconds)/3600\n",
        "    if direction in ['S', 'W']:\n",
        "        dec = -dec\n",
        "    return dec\n",
        "\n",
        "# Apply conversion functions\n",
        "goa_fire['Latitude'] = goa_fire['Latitude'].apply(dms_to_decimal)\n",
        "goa_fire['Longitude'] = goa_fire['Longitude'].apply(dms_to_decimal)\n",
        "\n",
        "print(goa_fire[['Latitude', 'Longitude']])\n",
        "\n"
      ],
      "metadata": {
        "colab": {
          "base_uri": "https://localhost:8080/"
        },
        "id": "0s3IWQki2upl",
        "outputId": "7685551a-b3a6-4a25-f3ce-d44a36235b0e"
      },
      "execution_count": 14,
      "outputs": [
        {
          "output_type": "stream",
          "name": "stdout",
          "text": [
            "      Latitude  Longitude\n",
            "0    15.278056  74.147778\n",
            "1    15.278333  74.147778\n",
            "2    15.372778  74.141111\n",
            "3    15.277222  74.149444\n",
            "4    15.747500  73.879167\n",
            "..         ...        ...\n",
            "232  15.366944  74.146944\n",
            "233  15.049167  74.160278\n",
            "234  15.049167  74.160278\n",
            "235  15.062500  74.021667\n",
            "236  15.086667  74.231389\n",
            "\n",
            "[237 rows x 2 columns]\n"
          ]
        }
      ]
    },
    {
      "cell_type": "markdown",
      "source": [
        "# 3. Align Goa Fire Events with Goa Weather Data by Date-Time"
      ],
      "metadata": {
        "id": "VB7ZP6ZJ-sVc"
      }
    },
    {
      "cell_type": "code",
      "source": [
        "# For goa_weather\n",
        "goa_weather['TIME (UTC)'] = pd.to_timedelta(goa_weather['TIME (UTC)'])\n",
        "goa_weather['Weather_DateTime'] = goa_weather['DATE(YYYY-MM-DD)'] + goa_weather['TIME (UTC)']\n",
        "\n",
        "# For goa_fire\n",
        "goa_fire['Fire_DateTime'] = pd.to_datetime(goa_fire['Fire Date'] + ' ' + goa_fire['Fire Time'])\n",
        "\n",
        "# Optional: Round fire datetime to nearest 15 minutes\n",
        "goa_fire['Fire_DateTime_Rounded'] = goa_fire['Fire_DateTime'].dt.round('15min')\n",
        "\n",
        "# Step 4: Merge on Fire_DateTime_Rounded and Weather_DateTime\n",
        "merged_df = pd.merge(\n",
        "    goa_fire,\n",
        "    goa_weather,\n",
        "    left_on='Fire_DateTime_Rounded',\n",
        "    right_on='Weather_DateTime',\n",
        "    how='left'\n",
        ")\n",
        "\n",
        "print(merged_df.info())\n",
        "print(merged_df.head())"
      ],
      "metadata": {
        "colab": {
          "base_uri": "https://localhost:8080/"
        },
        "id": "i2xSE0Tm-x5Q",
        "outputId": "bb26957e-5dd0-4387-9343-43328950aac0"
      },
      "execution_count": 26,
      "outputs": [
        {
          "output_type": "stream",
          "name": "stdout",
          "text": [
            "<class 'pandas.core.frame.DataFrame'>\n",
            "RangeIndex: 977 entries, 0 to 976\n",
            "Data columns (total 47 columns):\n",
            " #   Column                              Non-Null Count  Dtype          \n",
            "---  ------                              --------------  -----          \n",
            " 0   Fire Date                           977 non-null    object         \n",
            " 1   Fire Time                           977 non-null    object         \n",
            " 2   Source                              977 non-null    object         \n",
            " 3   Latitude                            977 non-null    float64        \n",
            " 4   Longitude                           977 non-null    float64        \n",
            " 5   State                               977 non-null    object         \n",
            " 6   District                            977 non-null    object         \n",
            " 7   Circle                              977 non-null    object         \n",
            " 8   Division                            977 non-null    object         \n",
            " 9   Range                               977 non-null    object         \n",
            " 10  Block/Section/Round                 977 non-null    object         \n",
            " 11  Beat                                977 non-null    object         \n",
            " 12  Fire_DateTime                       977 non-null    datetime64[ns] \n",
            " 13  Fire_DateTime_Rounded               977 non-null    datetime64[ns] \n",
            " 14  S NO.                               977 non-null    int64          \n",
            " 15  DISTRICT                            977 non-null    object         \n",
            " 16  STATION                             977 non-null    object         \n",
            " 17  DATE(YYYY-MM-DD)                    977 non-null    datetime64[ns] \n",
            " 18  TIME (UTC)                          977 non-null    timedelta64[ns]\n",
            " 19  RAIN FALL CUM. SINCE 0300 UTC (mm)  977 non-null    float64        \n",
            " 20  TEMP. ('C)                          977 non-null    float64        \n",
            " 21  TEMP DAY MIN. ('C)                  977 non-null    float64        \n",
            " 22  TEMP DAY MAX. ('C)                  977 non-null    float64        \n",
            " 23  RH (%)                              977 non-null    float64        \n",
            " 24  RH DAY MIN MAX (%)                  977 non-null    float64        \n",
            " 25  WIND DIR 10 m (Deg)                 977 non-null    float64        \n",
            " 26  WIND SPEED 10 m (Kt)                977 non-null    float64        \n",
            " 27  WIND SPEED MAX / GUST 10 m (Kt)     977 non-null    float64        \n",
            " 28  WIND DIR 3 m (Deg)                  977 non-null    float64        \n",
            " 29  WIND SPEED 3 m (Kt)                 977 non-null    float64        \n",
            " 30  WIND SPEED MAX / GUST 3 m (Kt)      977 non-null    float64        \n",
            " 31  SLP (hPa)                           977 non-null    float64        \n",
            " 32  MSLP (hPa / gpm)                    977 non-null    float64        \n",
            " 33  SUN SHINE (HH.MM)                   977 non-null    float64        \n",
            " 34  SOIL TEMP 10 cm ('C)                977 non-null    float64        \n",
            " 35  SOIL MOIS 10 cm (m3 / m3)           977 non-null    float64        \n",
            " 36  SOIL TEMP 30 cm ('C)                977 non-null    float64        \n",
            " 37  SOIL MOIS 30 cm (m3 / m3)           977 non-null    float64        \n",
            " 38  SOIL TEMP 70 cm ('C)                977 non-null    float64        \n",
            " 39  SOIL MOIS 70 cm (m3 / m3)           977 non-null    float64        \n",
            " 40  SOIL TEMP 100 cm ('C)               977 non-null    float64        \n",
            " 41  SOIL MOIS 100 cm (m3 / m3)          977 non-null    float64        \n",
            " 42  GLOBAL RAD IATION (v / m2)          977 non-null    float64        \n",
            " 43  PAR (micro - mole / m2s)            0 non-null      float64        \n",
            " 44  BATTERY (Volts)                     977 non-null    float64        \n",
            " 45  GPS                                 977 non-null    object         \n",
            " 46  Weather_DateTime                    977 non-null    datetime64[ns] \n",
            "dtypes: datetime64[ns](4), float64(28), int64(1), object(13), timedelta64[ns](1)\n",
            "memory usage: 358.9+ KB\n",
            "None\n",
            "    Fire Date Fire Time Source   Latitude  Longitude State   District  \\\n",
            "0  2021-11-11  02:07:15   SNPP  15.278056  74.147778   GOA  SOUTH GOA   \n",
            "1  2021-11-11  02:07:15   SNPP  15.278056  74.147778   GOA  SOUTH GOA   \n",
            "2  2021-11-11  02:07:15   SNPP  15.278056  74.147778   GOA  SOUTH GOA   \n",
            "3  2021-12-03  01:54:57   SNPP  15.278333  74.147778   GOA  SOUTH GOA   \n",
            "4  2021-12-03  01:54:57   SNPP  15.278333  74.147778   GOA  SOUTH GOA   \n",
            "\n",
            "              Circle                       Division          Range  ...  \\\n",
            "0  TERITORIAL CIRCLE  SOUTH GOA TERITORIAL DIVISION  SANGUEM RANGE  ...   \n",
            "1  TERITORIAL CIRCLE  SOUTH GOA TERITORIAL DIVISION  SANGUEM RANGE  ...   \n",
            "2  TERITORIAL CIRCLE  SOUTH GOA TERITORIAL DIVISION  SANGUEM RANGE  ...   \n",
            "3  TERITORIAL CIRCLE  SOUTH GOA TERITORIAL DIVISION  SANGUEM RANGE  ...   \n",
            "4  TERITORIAL CIRCLE  SOUTH GOA TERITORIAL DIVISION  SANGUEM RANGE  ...   \n",
            "\n",
            "  SOIL MOIS 30 cm (m3 / m3) SOIL TEMP 70 cm ('C) SOIL MOIS 70 cm (m3 / m3)  \\\n",
            "0                 25.000000            37.700000                 10.000000   \n",
            "1                 50.021605            29.325119                 46.805977   \n",
            "2                 50.021605            29.325119                 46.805977   \n",
            "3                 26.000000            36.500000                 11.000000   \n",
            "4                 51.000000            35.700000                 62.000000   \n",
            "\n",
            "  SOIL TEMP 100 cm ('C)  SOIL MOIS 100 cm (m3 / m3)  \\\n",
            "0              37.80000                    4.000000   \n",
            "1              28.58144                   29.872445   \n",
            "2              28.58144                   29.872445   \n",
            "3              36.90000                    5.000000   \n",
            "4              36.60000                   39.000000   \n",
            "\n",
            "  GLOBAL RAD IATION (v / m2) PAR (micro - mole / m2s) BATTERY (Volts) GPS  \\\n",
            "0                   0.000264                      NaN            12.9   L   \n",
            "1                   0.000264                      NaN            12.4   L   \n",
            "2                   0.000264                      NaN            12.5   L   \n",
            "3                   0.000264                      NaN            12.8   L   \n",
            "4                   0.000264                      NaN            13.0   L   \n",
            "\n",
            "     Weather_DateTime  \n",
            "0 2021-11-11 02:00:00  \n",
            "1 2021-11-11 02:00:00  \n",
            "2 2021-11-11 02:00:00  \n",
            "3 2021-12-03 02:00:00  \n",
            "4 2021-12-03 02:00:00  \n",
            "\n",
            "[5 rows x 47 columns]\n"
          ]
        }
      ]
    },
    {
      "cell_type": "markdown",
      "source": [
        "# 4. Merge the coordinates of AWS location and Fire points and weather data"
      ],
      "metadata": {
        "id": "T2ffb2HMQQ6W"
      }
    },
    {
      "cell_type": "code",
      "source": [
        "import pandas as pd\n",
        "import geopandas as gpd\n",
        "from shapely.geometry import Point\n",
        "from scipy.spatial import cKDTree\n",
        "import numpy as np\n",
        "\n",
        "# and aws_locations is loaded as below:\n",
        "aws_locations = pd.read_csv(\"/content/drive/MyDrive/BITS_PILANI_RESEARCH/Data/Data/All AWS Location.csv\")\n",
        "\n",
        "# Step 1: Merge by STATION name where possible (case-insensitive trimming)\n",
        "merged_df['STATION_trimmed'] = merged_df['STATION'].str.strip().str.upper()\n",
        "aws_locations['STATION_trimmed'] = aws_locations['STATION'].str.strip().str.upper()\n",
        "\n",
        "merged_with_coords = pd.merge(merged_df,\n",
        "                              aws_locations[['STATION_trimmed', 'LATITUDE', 'LONGITUDE']],\n",
        "                              on='STATION_trimmed',\n",
        "                              how='left',\n",
        "                              suffixes=('', '_aws'))\n",
        "\n",
        "# Step 2: Locate rows where LATITUDE (AWS) is missing after merge\n",
        "missing_coords_mask = merged_with_coords['LATITUDE'].isnull()\n",
        "\n",
        "# Step 3: Prepare GeoDataFrames for spatial matching (only for missing AWS coords)\n",
        "fire_points_missing = merged_with_coords[missing_coords_mask].copy()\n",
        "fire_points_missing['geometry'] = fire_points_missing.apply(lambda row: Point(row['Longitude'], row['Latitude']), axis=1)\n",
        "fire_gdf = gpd.GeoDataFrame(fire_points_missing, geometry='geometry', crs='EPSG:4326')\n",
        "\n",
        "# AWS locations GeoDataFrame\n",
        "aws_locations['geometry'] = aws_locations.apply(lambda row: Point(row['LONGITUDE'], row['LATITUDE']), axis=1)\n",
        "aws_gdf = gpd.GeoDataFrame(aws_locations, geometry='geometry', crs='EPSG:4326')\n",
        "\n",
        "# Step 4: Build KDTree for AWS locations (geometry coords)\n",
        "aws_coords = np.array(list(zip(aws_gdf.geometry.x, aws_gdf.geometry.y)))\n",
        "kd_tree = cKDTree(aws_coords)\n",
        "\n",
        "# Step 5: Query nearest AWS location for each fire point missing AWS coords\n",
        "fire_coords = np.array(list(zip(fire_gdf.geometry.x, fire_gdf.geometry.y)))\n",
        "distances, indices = kd_tree.query(fire_coords, k=1)\n",
        "\n",
        "# Step 6: Assign nearest AWS station info\n",
        "nearest_aws = aws_gdf.iloc[indices].reset_index(drop=True)\n",
        "fire_gdf = fire_gdf.reset_index(drop=True)\n",
        "\n",
        "fire_gdf['Nearest_Station'] = nearest_aws['STATION']\n",
        "fire_gdf['Nearest_Latitude'] = nearest_aws['LATITUDE']\n",
        "fire_gdf['Nearest_Longitude'] = nearest_aws['LONGITUDE']\n",
        "\n",
        "# Step 7: Update merged_with_coords with nearest station info for rows with missing AWS coords\n",
        "for idx, row in fire_gdf.iterrows():\n",
        "    loc = merged_with_coords.index[missing_coords_mask][idx]\n",
        "    merged_with_coords.at[loc, 'STATION_nearest'] = row['Nearest_Station']\n",
        "    merged_with_coords.at[loc, 'LATITUDE'] = row['Nearest_Latitude']\n",
        "    merged_with_coords.at[loc, 'LONGITUDE'] = row['Nearest_Longitude']\n",
        "\n",
        "# Step 8: Create final station column to unify original and nearest stations\n",
        "merged_with_coords['Final_Station'] = merged_with_coords['STATION']\n",
        "fill_mask = merged_with_coords['STATION_nearest'].notnull()\n",
        "merged_with_coords.loc[fill_mask, 'Final_Station'] = merged_with_coords.loc[fill_mask, 'STATION_nearest']\n",
        "\n",
        "# Clean up helper columns if desired\n",
        "#merged_with_coords.drop(columns=['STATION_trimmed', 'STATION_nearest'], inplace=True)\n",
        "\n",
        "# merged_with_coords now contains logically matched AWS station info for each fire point record\n",
        "print(merged_with_coords.head())"
      ],
      "metadata": {
        "colab": {
          "base_uri": "https://localhost:8080/"
        },
        "id": "rHNDAgvw4DpJ",
        "outputId": "9f1049b9-5550-4412-982e-5f6e5da37f60"
      },
      "execution_count": 16,
      "outputs": [
        {
          "output_type": "stream",
          "name": "stdout",
          "text": [
            "    Fire Date Fire Time Source   Latitude  Longitude State   District  \\\n",
            "0  2021-11-11  02:07:15   SNPP  15.278056  74.147778   GOA  SOUTH GOA   \n",
            "1  2021-11-11  02:07:15   SNPP  15.278056  74.147778   GOA  SOUTH GOA   \n",
            "2  2021-11-11  02:07:15   SNPP  15.278056  74.147778   GOA  SOUTH GOA   \n",
            "3  2021-12-03  01:54:57   SNPP  15.278333  74.147778   GOA  SOUTH GOA   \n",
            "4  2021-12-03  01:54:57   SNPP  15.278333  74.147778   GOA  SOUTH GOA   \n",
            "\n",
            "              Circle                       Division          Range  ...  \\\n",
            "0  TERITORIAL CIRCLE  SOUTH GOA TERITORIAL DIVISION  SANGUEM RANGE  ...   \n",
            "1  TERITORIAL CIRCLE  SOUTH GOA TERITORIAL DIVISION  SANGUEM RANGE  ...   \n",
            "2  TERITORIAL CIRCLE  SOUTH GOA TERITORIAL DIVISION  SANGUEM RANGE  ...   \n",
            "3  TERITORIAL CIRCLE  SOUTH GOA TERITORIAL DIVISION  SANGUEM RANGE  ...   \n",
            "4  TERITORIAL CIRCLE  SOUTH GOA TERITORIAL DIVISION  SANGUEM RANGE  ...   \n",
            "\n",
            "  GLOBAL RAD IATION (v / m2) PAR (micro - mole / m2s) BATTERY (Volts) GPS  \\\n",
            "0                   0.000264                      NaN            12.9   L   \n",
            "1                   0.000264                      NaN            12.4   L   \n",
            "2                   0.000264                      NaN            12.5   L   \n",
            "3                   0.000264                      NaN            12.8   L   \n",
            "4                   0.000264                      NaN            13.0   L   \n",
            "\n",
            "     Weather_DateTime    STATION_trimmed LATITUDE LONGITUDE STATION_nearest  \\\n",
            "0 2021-11-11 02:00:00  ELA_NORTH GOA_KVK  15.4893   73.9196             NaN   \n",
            "1 2021-11-11 02:00:00           MORMUGAO  15.4117   73.7861             NaN   \n",
            "2 2021-11-11 02:00:00             PANAJI  15.4922   73.8251             NaN   \n",
            "3 2021-12-03 02:00:00  ELA_NORTH GOA_KVK  15.4893   73.9196             NaN   \n",
            "4 2021-12-03 02:00:00        MADGAON_KVK  15.2662   73.9626             NaN   \n",
            "\n",
            "       Final_Station  \n",
            "0  ELA_NORTH GOA_KVK  \n",
            "1           MORMUGAO  \n",
            "2             PANAJI  \n",
            "3  ELA_NORTH GOA_KVK  \n",
            "4        MADGAON_KVK  \n",
            "\n",
            "[5 rows x 52 columns]\n"
          ]
        }
      ]
    },
    {
      "cell_type": "markdown",
      "source": [
        "# 5. Generate negative samples of the dataset"
      ],
      "metadata": {
        "id": "ZIzcbquvQjlO"
      }
    },
    {
      "cell_type": "code",
      "source": [
        "import pandas as pd\n",
        "import numpy as np\n",
        "from shapely.geometry import Point\n",
        "import geopandas as gpd\n",
        "from scipy.spatial import cKDTree\n",
        "\n",
        "# --- Parameters ---\n",
        "num_negative_samples = len(merged_with_coords)\n",
        "min_date = pd.to_datetime(merged_with_coords['Fire Date']).min().date()\n",
        "max_date = pd.to_datetime(merged_with_coords['Fire Date']).max().date()\n",
        "\n",
        "lat_col = 'Latitude'\n",
        "lon_col = 'Longitude'\n",
        "\n",
        "# --- 1. Generate negative sample locations and datetimes ---\n",
        "np.random.seed(200)\n",
        "neg_lat = np.random.uniform(merged_with_coords[lat_col].min(), merged_with_coords[lat_col].max(), num_negative_samples)\n",
        "neg_lon = np.random.uniform(merged_with_coords[lon_col].min(), merged_with_coords[lon_col].max(), num_negative_samples)\n",
        "\n",
        "neg_days = np.random.randint(0, (max_date - min_date).days, num_negative_samples)\n",
        "neg_dates = [min_date + pd.Timedelta(days=int(d)) for d in neg_days]\n",
        "neg_times = [f\"{np.random.randint(0,24):02d}:{np.random.randint(0,60):02d}:{np.random.randint(0,60):02d}\" for _ in range(num_negative_samples)]\n",
        "\n",
        "negative_samples = pd.DataFrame({\n",
        "    'Fire Date': [d.strftime(\"%Y-%m-%d\") for d in neg_dates],\n",
        "    'Fire Time': neg_times,\n",
        "    'Latitude': neg_lat,\n",
        "    'Longitude': neg_lon\n",
        "})\n",
        "\n",
        "# --- 2. Remove negatives too close spatially to positives ---\n",
        "positive_gdf = gpd.GeoDataFrame(merged_with_coords, geometry=gpd.points_from_xy(merged_with_coords[lon_col], merged_with_coords[lat_col]), crs='EPSG:4326')\n",
        "negative_gdf = gpd.GeoDataFrame(negative_samples, geometry=gpd.points_from_xy(negative_samples['Longitude'], negative_samples['Latitude']), crs='EPSG:4326')\n",
        "\n",
        "buffer_distance = 0.01\n",
        "positive_buffered = positive_gdf.buffer(buffer_distance)\n",
        "\n",
        "def is_near_fire(point):\n",
        "    return any(point.within(poly) for poly in positive_buffered)\n",
        "\n",
        "negative_gdf['is_near_fire'] = negative_gdf.geometry.apply(is_near_fire)\n",
        "negative_gdf = negative_gdf[negative_gdf['is_near_fire'] == False]\n",
        "\n",
        "# --- 3. Sample negatives to original count ---\n",
        "available_neg_samples = len(negative_gdf)\n",
        "if available_neg_samples >= num_negative_samples:\n",
        "    negative_gdf = negative_gdf.sample(n=num_negative_samples, random_state=42)\n",
        "else:\n",
        "    negative_gdf = negative_gdf.sample(n=num_negative_samples, replace=True, random_state=42)\n",
        "\n",
        "# --- 4. Assign nearest AWS station ---\n",
        "aws_locations = pd.read_csv(\"/content/drive/MyDrive/BITS_PILANI_RESEARCH/Data/Data/All AWS Location.csv\")\n",
        "aws_coords = np.array(list(zip(aws_locations['LATITUDE'], aws_locations['LONGITUDE'])))\n",
        "kd_tree = cKDTree(aws_coords)\n",
        "\n",
        "neg_coords = np.array(list(zip(negative_gdf['Latitude'], negative_gdf['Longitude'])))\n",
        "_, indices = kd_tree.query(neg_coords, k=1)\n",
        "negative_gdf['Nearest_Station'] = aws_locations.iloc[indices]['STATION'].values\n",
        "\n",
        "# Normalize station names\n",
        "negative_gdf['Nearest_Station'] = negative_gdf['Nearest_Station'].str.upper().str.strip()\n",
        "\n",
        "# --- 5. Prepare goa_weather ---\n",
        "goa_weather['Weather_DateTime'] = pd.to_datetime(goa_weather['DATE(YYYY-MM-DD)'].astype(str) + ' ' + goa_weather['TIME (UTC)'].astype(str), errors='coerce')\n",
        "goa_weather['STATION'] = goa_weather['STATION'].str.upper().str.strip()\n",
        "goa_weather_clean = goa_weather.dropna(subset=['Weather_DateTime', 'STATION']).copy()\n",
        "goa_weather_clean['Weather_ts'] = goa_weather_clean['Weather_DateTime'].astype(np.int64)\n",
        "\n",
        "# --- 6. Create negative sample datetime in int64 for comparison ---\n",
        "negative_gdf = negative_gdf.reset_index(drop=True)\n",
        "negative_gdf['Neg_Weather_DateTime'] = pd.to_datetime(negative_gdf['Fire Date'] + ' ' + negative_gdf['Fire Time'], errors='coerce')\n",
        "negative_gdf['Neg_Weather_ts'] = negative_gdf['Neg_Weather_DateTime'].astype(np.int64)\n",
        "\n",
        "# Get weather feature columns, excluding identifiers and datetime columns\n",
        "weather_feature_cols = goa_weather_clean.columns.difference(['Weather_ts', 'Weather_DateTime', 'STATION']).tolist()\n",
        "\n",
        "# Create dictionary of station -> weather dataframe for fast lookup\n",
        "station_weather_dict = {\n",
        "    station: df[['Weather_ts'] + weather_feature_cols]\n",
        "    for station, df in goa_weather_clean.groupby('STATION')\n",
        "}\n",
        "\n",
        "# --- 7. Function to get closest weather record ---\n",
        "def find_closest_weather(row):\n",
        "    station = row['Nearest_Station']\n",
        "    cols = weather_feature_cols\n",
        "    if station not in station_weather_dict:\n",
        "        # No records for station, return NaNs\n",
        "        return pd.Series([np.nan]*len(cols), index=cols)\n",
        "    df_station = station_weather_dict[station]\n",
        "    time_diffs = abs(df_station['Weather_ts'] - row['Neg_Weather_ts'])\n",
        "    idx_min = time_diffs.idxmin()\n",
        "    rec = df_station.loc[idx_min, cols]\n",
        "    if isinstance(rec, pd.Series):\n",
        "        return rec\n",
        "    else:\n",
        "        # In case of scalar (unlikely), convert to Series\n",
        "        return pd.Series([rec], index=cols)\n",
        "\n",
        "# --- 8. Apply the function ---\n",
        "weather_features_df = negative_gdf.apply(find_closest_weather, axis=1)\n",
        "\n",
        "# --- 9. Combine negatives with weather features ---\n",
        "final_negatives = pd.concat([negative_gdf.reset_index(drop=True), weather_features_df.reset_index(drop=True)], axis=1)\n",
        "\n",
        "# --- 10. Add missing columns from positives with NaN ---\n",
        "for col in merged_with_coords.columns:\n",
        "    if col not in final_negatives.columns:\n",
        "        final_negatives[col] = np.nan\n",
        "\n",
        "final_negatives = final_negatives[merged_with_coords.columns]\n",
        "final_negatives['fire_label'] = 0\n",
        "\n",
        "# --- 11. Prepare positives labeled ---\n",
        "positive_labeled = merged_with_coords.copy()\n",
        "positive_labeled['fire_label'] = 1\n",
        "\n",
        "# --- 12. Combine positives and negatives ---\n",
        "dataset_for_model = pd.concat([positive_labeled, final_negatives], ignore_index=True)\n",
        "\n",
        "# Drop helper columns if any remain\n",
        "dataset_for_model = dataset_for_model.drop(columns=['geometry', 'is_near_fire', 'Neg_Weather_DateTime', 'Neg_Weather_ts'], errors='ignore')\n"
      ],
      "metadata": {
        "colab": {
          "base_uri": "https://localhost:8080/"
        },
        "id": "-afkgXnuKTbv",
        "outputId": "9e00f945-9cbc-4e3e-d706-4f94907355a4"
      },
      "execution_count": 33,
      "outputs": [
        {
          "output_type": "stream",
          "name": "stderr",
          "text": [
            "/tmp/ipython-input-2818174154.py:36: UserWarning: Geometry is in a geographic CRS. Results from 'buffer' are likely incorrect. Use 'GeoSeries.to_crs()' to re-project geometries to a projected CRS before this operation.\n",
            "\n",
            "  positive_buffered = positive_gdf.buffer(buffer_distance)\n",
            "/tmp/ipython-input-2818174154.py:64: UserWarning: Could not infer format, so each element will be parsed individually, falling back to `dateutil`. To ensure parsing is consistent and as-expected, please specify a format.\n",
            "  goa_weather['Weather_DateTime'] = pd.to_datetime(goa_weather['DATE(YYYY-MM-DD)'].astype(str) + ' ' + goa_weather['TIME (UTC)'].astype(str), errors='coerce')\n",
            "/tmp/ipython-input-2818174154.py:119: FutureWarning: The behavior of DataFrame concatenation with empty or all-NA entries is deprecated. In a future version, this will no longer exclude empty or all-NA columns when determining the result dtypes. To retain the old behavior, exclude the relevant entries before the concat operation.\n",
            "  dataset_for_model = pd.concat([positive_labeled, final_negatives], ignore_index=True)\n"
          ]
        }
      ]
    },
    {
      "cell_type": "code",
      "source": [
        "print(dataset_for_model[dataset_for_model['fire_label'] == 0].head())"
      ],
      "metadata": {
        "colab": {
          "base_uri": "https://localhost:8080/"
        },
        "id": "wEHPlURkOw_X",
        "outputId": "cafd6385-e63c-47b2-fade-d3481e727da6"
      },
      "execution_count": 34,
      "outputs": [
        {
          "output_type": "stream",
          "name": "stdout",
          "text": [
            "      Fire Date Fire Time Source   Latitude  Longitude State District Circle  \\\n",
            "977  2023-05-25  21:37:33    NaN  15.191562  74.178441   NaN      NaN    NaN   \n",
            "978  2021-11-21  10:38:42    NaN  15.274969  73.851544   NaN      NaN    NaN   \n",
            "979  2024-05-06  18:01:55    NaN  15.195841  74.210368   NaN      NaN    NaN   \n",
            "980  2023-05-26  08:54:14    NaN  14.962840  73.793216   NaN      NaN    NaN   \n",
            "981  2023-10-18  06:58:25    NaN  15.654666  73.842846   NaN      NaN    NaN   \n",
            "\n",
            "    Division Range  ... PAR (micro - mole / m2s) BATTERY (Volts)  GPS  \\\n",
            "977      NaN   NaN  ...                      NaN             NaN  NaN   \n",
            "978      NaN   NaN  ...                      NaN             NaN  NaN   \n",
            "979      NaN   NaN  ...                      NaN             NaN  NaN   \n",
            "980      NaN   NaN  ...                      NaN             NaN  NaN   \n",
            "981      NaN   NaN  ...                      NaN             NaN  NaN   \n",
            "\n",
            "    Weather_DateTime  STATION_trimmed LATITUDE LONGITUDE STATION_nearest  \\\n",
            "977              NaT              NaN      NaN       NaN             NaN   \n",
            "978              NaT              NaN      NaN       NaN             NaN   \n",
            "979              NaT              NaN      NaN       NaN             NaN   \n",
            "980              NaT              NaN      NaN       NaN             NaN   \n",
            "981              NaT              NaN      NaN       NaN             NaN   \n",
            "\n",
            "    Final_Station  fire_label  \n",
            "977           NaN           0  \n",
            "978           NaN           0  \n",
            "979           NaN           0  \n",
            "980           NaN           0  \n",
            "981           NaN           0  \n",
            "\n",
            "[5 rows x 53 columns]\n"
          ]
        }
      ]
    },
    {
      "cell_type": "code",
      "source": [
        "# import pandas as pd\n",
        "# import numpy as np\n",
        "# from shapely.geometry import Point\n",
        "# import geopandas as gpd\n",
        "\n",
        "# # Parameters\n",
        "# num_negative_samples = len(merged_with_coords)\n",
        "# date_column = 'Fire Date'\n",
        "# time_column = 'Fire Time'\n",
        "# lat_col = 'Latitude'\n",
        "# lon_col = 'Longitude'\n",
        "\n",
        "# # 1. Get spatial bounding box from positives\n",
        "# min_lat, max_lat = merged_with_coords[lat_col].min(), merged_with_coords[lat_col].max()\n",
        "# min_lon, max_lon = merged_with_coords[lon_col].min(), merged_with_coords[lon_col].max()\n",
        "\n",
        "# # 2. Temporal range from positives\n",
        "# min_date = pd.to_datetime(merged_with_coords[date_column]).min().date()\n",
        "# max_date = pd.to_datetime(merged_with_coords[date_column]).max().date()\n",
        "\n",
        "# # 3. Generate random NEGATIVE sample locations\n",
        "# np.random.seed(200)\n",
        "# neg_lat = np.random.uniform(min_lat, max_lat, num_negative_samples)\n",
        "# neg_lon = np.random.uniform(min_lon, max_lon, num_negative_samples)\n",
        "\n",
        "# # 4. Generate random negative sample DATES (not datetimes) and random TIMES\n",
        "# neg_days = np.random.randint(0, (max_date - min_date).days, num_negative_samples)\n",
        "# neg_dates = [min_date + pd.Timedelta(days=int(d)) for d in neg_days]\n",
        "# neg_times = [f\"{np.random.randint(0,24):02d}:{np.random.randint(0,60):02d}:{np.random.randint(0,60):02d}\" for _ in range(num_negative_samples)]\n",
        "\n",
        "# negative_samples = pd.DataFrame({\n",
        "#     'Fire Date': [d.strftime(\"%Y-%m-%d\") for d in neg_dates],  # string as YYYY-MM-DD\n",
        "#     'Fire Time': neg_times,\n",
        "#     'Latitude': neg_lat,\n",
        "#     'Longitude': neg_lon\n",
        "# })\n",
        "\n",
        "# # 5. Remove negative samples too close to positives\n",
        "# positive_gdf = gpd.GeoDataFrame(merged_with_coords, geometry=gpd.points_from_xy(merged_with_coords[lon_col], merged_with_coords[lat_col]), crs='EPSG:4326')\n",
        "# negative_gdf = gpd.GeoDataFrame(negative_samples, geometry=gpd.points_from_xy(negative_samples['Longitude'], negative_samples['Latitude']), crs='EPSG:4326')\n",
        "# buffer_distance = 0.01\n",
        "# positive_buffered = positive_gdf.buffer(buffer_distance)\n",
        "\n",
        "# def is_near_fire(point):\n",
        "#     return any(point.within(poly) for poly in positive_buffered)\n",
        "\n",
        "# negative_gdf['is_near_fire'] = negative_gdf.geometry.apply(is_near_fire)\n",
        "# negative_gdf = negative_gdf[negative_gdf['is_near_fire'] == False]\n",
        "\n",
        "# # Fix for sampling size error\n",
        "# available_neg_samples = len(negative_gdf)\n",
        "# if available_neg_samples >= num_negative_samples:\n",
        "#     negative_gdf = negative_gdf.sample(n=num_negative_samples, random_state=42)\n",
        "# else:\n",
        "#     negative_gdf = negative_gdf.sample(n=num_negative_samples, replace=True, random_state=42)\n",
        "\n",
        "# # 6. Assign labels\n",
        "# positive_labeled = merged_with_coords.copy()\n",
        "# positive_labeled['fire_label'] = 1\n",
        "\n",
        "# # Ensure all columns present in negative samples\n",
        "# for col in positive_labeled.columns:\n",
        "#     if col not in negative_gdf.columns:\n",
        "#         negative_gdf[col] = np.nan\n",
        "\n",
        "# negative_labeled = negative_gdf[positive_labeled.columns]\n",
        "# negative_labeled['fire_label'] = 0\n",
        "\n",
        "# # 7. Combine positive and negative samples\n",
        "# dataset_for_model = pd.concat([positive_labeled, negative_labeled], ignore_index=True)\n",
        "# dataset_for_model = dataset_for_model.drop(columns=['geometry', 'is_near_fire'], errors='ignore')\n"
      ],
      "metadata": {
        "id": "oreMdiqc7Qxd",
        "colab": {
          "base_uri": "https://localhost:8080/"
        },
        "outputId": "1204269d-d306-428a-aa6c-2cf01b072826"
      },
      "execution_count": 27,
      "outputs": [
        {
          "output_type": "stream",
          "name": "stderr",
          "text": [
            "/tmp/ipython-input-3859376039.py:42: UserWarning: Geometry is in a geographic CRS. Results from 'buffer' are likely incorrect. Use 'GeoSeries.to_crs()' to re-project geometries to a projected CRS before this operation.\n",
            "\n",
            "  positive_buffered = positive_gdf.buffer(buffer_distance)\n",
            "/tmp/ipython-input-3859376039.py:67: SettingWithCopyWarning: \n",
            "A value is trying to be set on a copy of a slice from a DataFrame.\n",
            "Try using .loc[row_indexer,col_indexer] = value instead\n",
            "\n",
            "See the caveats in the documentation: https://pandas.pydata.org/pandas-docs/stable/user_guide/indexing.html#returning-a-view-versus-a-copy\n",
            "  negative_labeled['fire_label'] = 0\n",
            "/tmp/ipython-input-3859376039.py:70: FutureWarning: The behavior of DataFrame concatenation with empty or all-NA entries is deprecated. In a future version, this will no longer exclude empty or all-NA columns when determining the result dtypes. To retain the old behavior, exclude the relevant entries before the concat operation.\n",
            "  dataset_for_model = pd.concat([positive_labeled, negative_labeled], ignore_index=True)\n"
          ]
        }
      ]
    },
    {
      "cell_type": "code",
      "source": [
        "print(dataset_for_model[dataset_for_model['fire_label'] == 0].head())"
      ],
      "metadata": {
        "colab": {
          "base_uri": "https://localhost:8080/"
        },
        "id": "mScLMhZCEvmK",
        "outputId": "3e942b9a-c607-4318-fa18-b4ada02741d8"
      },
      "execution_count": 30,
      "outputs": [
        {
          "output_type": "stream",
          "name": "stdout",
          "text": [
            "      Fire Date Fire Time Source   Latitude  Longitude State District Circle  \\\n",
            "977  2022-11-10  10:34:24    NaN  15.704500  73.787327   NaN      NaN    NaN   \n",
            "978  2022-04-27  22:12:12    NaN  15.112409  73.880182   NaN      NaN    NaN   \n",
            "979  2024-01-24  06:09:43    NaN  15.414474  74.281113   NaN      NaN    NaN   \n",
            "980  2022-01-23  00:57:08    NaN  15.278078  74.289709   NaN      NaN    NaN   \n",
            "981  2022-04-08  00:50:39    NaN  15.553833  74.267190   NaN      NaN    NaN   \n",
            "\n",
            "    Division Range  ... PAR (micro - mole / m2s) BATTERY (Volts)  GPS  \\\n",
            "977      NaN   NaN  ...                      NaN             NaN  NaN   \n",
            "978      NaN   NaN  ...                      NaN            13.2    L   \n",
            "979      NaN   NaN  ...                      NaN             NaN  NaN   \n",
            "980      NaN   NaN  ...                      NaN             NaN  NaN   \n",
            "981      NaN   NaN  ...                      NaN             NaN  NaN   \n",
            "\n",
            "    Weather_DateTime  STATION_trimmed LATITUDE LONGITUDE STATION_nearest  \\\n",
            "977              NaT              NaN      NaN       NaN             NaN   \n",
            "978              NaT              NaN      NaN       NaN             NaN   \n",
            "979              NaT              NaN      NaN       NaN             NaN   \n",
            "980              NaT              NaN      NaN       NaN             NaN   \n",
            "981              NaT              NaN      NaN       NaN             NaN   \n",
            "\n",
            "    Final_Station  fire_label  \n",
            "977           NaN           0  \n",
            "978           NaN           0  \n",
            "979           NaN           0  \n",
            "980           NaN           0  \n",
            "981           NaN           0  \n",
            "\n",
            "[5 rows x 53 columns]\n"
          ]
        }
      ]
    },
    {
      "cell_type": "markdown",
      "source": [
        "# 6. SVM Model creation part"
      ],
      "metadata": {
        "id": "J7o7qCMVQqdh"
      }
    },
    {
      "cell_type": "markdown",
      "source": [
        "## 6.1 Splitting datset into target, test, validation"
      ],
      "metadata": {
        "id": "DTdKEicXQvOo"
      }
    },
    {
      "cell_type": "code",
      "source": [
        "import pandas as pd\n",
        "import geopandas as gpd\n",
        "from shapely.geometry import Point\n",
        "from sklearn.svm import SVC\n",
        "from sklearn.preprocessing import StandardScaler\n",
        "from sklearn.metrics import accuracy_score\n",
        "from sklearn.model_selection import GroupShuffleSplit\n",
        "\n",
        "# 1. Load shapefile for protected area (Goa regions)\n",
        "protect_area = gpd.read_file(\"/content/drive/MyDrive/BITS_PILANI_RESEARCH/Data/Data/shp/Protect_area.shp\")\n",
        "\n",
        "# 2. Convert dataset_for_model points to GeoDataFrame\n",
        "data = dataset_for_model.copy()\n",
        "data['geometry'] = data.apply(lambda row: Point(row['Longitude'], row['Latitude']), axis=1)\n",
        "gdf = gpd.GeoDataFrame(data, geometry='geometry', crs=protect_area.crs)\n",
        "\n",
        "# 3. Spatial join: assign each fire/no-fire point to polygon region\n",
        "gdf = gpd.sjoin(gdf, protect_area, how='left', predicate='within')\n",
        "\n",
        "# 4. Determine spatial group column for stratification (adjust if needed)\n",
        "spatial_group_col = 'DISTRICT' if 'DISTRICT' in gdf.columns else protect_area.columns[1]\n",
        "\n",
        "# 5. Sort by 'Fire Date' for temporal ordering\n",
        "gdf = gdf.sort_values('Fire Date')\n",
        "\n",
        "# 6. Split dataset by spatial groups using GroupShuffleSplit to prevent leakage\n",
        "groups = gdf[spatial_group_col]\n",
        "\n",
        "# Split off test set (10%)\n",
        "gss = GroupShuffleSplit(n_splits=1, test_size=0.1, random_state=42)\n",
        "train_valid_idx, test_idx = next(gss.split(gdf, groups=groups))\n",
        "\n",
        "train_valid_data = gdf.iloc[train_valid_idx]\n",
        "test_data = gdf.iloc[test_idx]\n",
        "\n",
        "# From train_valid, split 70% train and 20% validation (relative to full data)\n",
        "train_size = 0.7 / 0.9  # proportion train in train+validation\n",
        "gss2 = GroupShuffleSplit(n_splits=1, test_size=1 - train_size, random_state=42)\n",
        "train_idx, valid_idx = next(gss2.split(train_valid_data, groups=train_valid_data[spatial_group_col]))\n",
        "\n",
        "train_data = train_valid_data.iloc[train_idx]\n",
        "valid_data = train_valid_data.iloc[valid_idx]\n",
        "\n",
        "# 7. Define feature columns: exclude non-numeric, identifiers, and label columns\n",
        "exclude_cols = ['fire_label', 'Fire Date', 'Fire Time', 'Source', 'State', 'District', 'Circle',\n",
        "                'Division', 'Range', 'Block/Section/Round', 'Beat', 'GPS', 'Weather_DateTime',\n",
        "                'STATION_trimmed', 'STATION_nearest', 'Final_Station', 'PAR (micro - mole / m2s)',\n",
        "                'geometry', spatial_group_col]\n",
        "\n",
        "feature_cols = [col for col in gdf.columns if col not in exclude_cols and pd.api.types.is_numeric_dtype(gdf[col])]\n",
        "\n",
        "# 8. Prepare feature matrices and target\n"
      ],
      "metadata": {
        "colab": {
          "base_uri": "https://localhost:8080/",
          "height": 356
        },
        "id": "au4U9ra1LFQB",
        "outputId": "ba5e4586-1874-484f-aa3b-1a5a09918ba1"
      },
      "execution_count": 35,
      "outputs": [
        {
          "output_type": "error",
          "ename": "ValueError",
          "evalue": "Input contains NaN",
          "traceback": [
            "\u001b[0;31m---------------------------------------------------------------------------\u001b[0m",
            "\u001b[0;31mValueError\u001b[0m                                Traceback (most recent call last)",
            "\u001b[0;32m/tmp/ipython-input-4115559866.py\u001b[0m in \u001b[0;36m<cell line: 0>\u001b[0;34m()\u001b[0m\n\u001b[1;32m     29\u001b[0m \u001b[0;31m# Split off test set (10%)\u001b[0m\u001b[0;34m\u001b[0m\u001b[0;34m\u001b[0m\u001b[0m\n\u001b[1;32m     30\u001b[0m \u001b[0mgss\u001b[0m \u001b[0;34m=\u001b[0m \u001b[0mGroupShuffleSplit\u001b[0m\u001b[0;34m(\u001b[0m\u001b[0mn_splits\u001b[0m\u001b[0;34m=\u001b[0m\u001b[0;36m1\u001b[0m\u001b[0;34m,\u001b[0m \u001b[0mtest_size\u001b[0m\u001b[0;34m=\u001b[0m\u001b[0;36m0.1\u001b[0m\u001b[0;34m,\u001b[0m \u001b[0mrandom_state\u001b[0m\u001b[0;34m=\u001b[0m\u001b[0;36m42\u001b[0m\u001b[0;34m)\u001b[0m\u001b[0;34m\u001b[0m\u001b[0;34m\u001b[0m\u001b[0m\n\u001b[0;32m---> 31\u001b[0;31m \u001b[0mtrain_valid_idx\u001b[0m\u001b[0;34m,\u001b[0m \u001b[0mtest_idx\u001b[0m \u001b[0;34m=\u001b[0m \u001b[0mnext\u001b[0m\u001b[0;34m(\u001b[0m\u001b[0mgss\u001b[0m\u001b[0;34m.\u001b[0m\u001b[0msplit\u001b[0m\u001b[0;34m(\u001b[0m\u001b[0mgdf\u001b[0m\u001b[0;34m,\u001b[0m \u001b[0mgroups\u001b[0m\u001b[0;34m=\u001b[0m\u001b[0mgroups\u001b[0m\u001b[0;34m)\u001b[0m\u001b[0;34m)\u001b[0m\u001b[0;34m\u001b[0m\u001b[0;34m\u001b[0m\u001b[0m\n\u001b[0m\u001b[1;32m     32\u001b[0m \u001b[0;34m\u001b[0m\u001b[0m\n\u001b[1;32m     33\u001b[0m \u001b[0mtrain_valid_data\u001b[0m \u001b[0;34m=\u001b[0m \u001b[0mgdf\u001b[0m\u001b[0;34m.\u001b[0m\u001b[0miloc\u001b[0m\u001b[0;34m[\u001b[0m\u001b[0mtrain_valid_idx\u001b[0m\u001b[0;34m]\u001b[0m\u001b[0;34m\u001b[0m\u001b[0;34m\u001b[0m\u001b[0m\n",
            "\u001b[0;32m/usr/local/lib/python3.12/dist-packages/sklearn/model_selection/_split.py\u001b[0m in \u001b[0;36msplit\u001b[0;34m(self, X, y, groups)\u001b[0m\n\u001b[1;32m   1907\u001b[0m         \"\"\"\n\u001b[1;32m   1908\u001b[0m         \u001b[0mX\u001b[0m\u001b[0;34m,\u001b[0m \u001b[0my\u001b[0m\u001b[0;34m,\u001b[0m \u001b[0mgroups\u001b[0m \u001b[0;34m=\u001b[0m \u001b[0mindexable\u001b[0m\u001b[0;34m(\u001b[0m\u001b[0mX\u001b[0m\u001b[0;34m,\u001b[0m \u001b[0my\u001b[0m\u001b[0;34m,\u001b[0m \u001b[0mgroups\u001b[0m\u001b[0;34m)\u001b[0m\u001b[0;34m\u001b[0m\u001b[0;34m\u001b[0m\u001b[0m\n\u001b[0;32m-> 1909\u001b[0;31m         \u001b[0;32mfor\u001b[0m \u001b[0mtrain\u001b[0m\u001b[0;34m,\u001b[0m \u001b[0mtest\u001b[0m \u001b[0;32min\u001b[0m \u001b[0mself\u001b[0m\u001b[0;34m.\u001b[0m\u001b[0m_iter_indices\u001b[0m\u001b[0;34m(\u001b[0m\u001b[0mX\u001b[0m\u001b[0;34m,\u001b[0m \u001b[0my\u001b[0m\u001b[0;34m,\u001b[0m \u001b[0mgroups\u001b[0m\u001b[0;34m)\u001b[0m\u001b[0;34m:\u001b[0m\u001b[0;34m\u001b[0m\u001b[0;34m\u001b[0m\u001b[0m\n\u001b[0m\u001b[1;32m   1910\u001b[0m             \u001b[0;32myield\u001b[0m \u001b[0mtrain\u001b[0m\u001b[0;34m,\u001b[0m \u001b[0mtest\u001b[0m\u001b[0;34m\u001b[0m\u001b[0;34m\u001b[0m\u001b[0m\n\u001b[1;32m   1911\u001b[0m \u001b[0;34m\u001b[0m\u001b[0m\n",
            "\u001b[0;32m/usr/local/lib/python3.12/dist-packages/sklearn/model_selection/_split.py\u001b[0m in \u001b[0;36m_iter_indices\u001b[0;34m(self, X, y, groups)\u001b[0m\n\u001b[1;32m   2160\u001b[0m         \u001b[0;32mif\u001b[0m \u001b[0mgroups\u001b[0m \u001b[0;32mis\u001b[0m \u001b[0;32mNone\u001b[0m\u001b[0;34m:\u001b[0m\u001b[0;34m\u001b[0m\u001b[0;34m\u001b[0m\u001b[0m\n\u001b[1;32m   2161\u001b[0m             \u001b[0;32mraise\u001b[0m \u001b[0mValueError\u001b[0m\u001b[0;34m(\u001b[0m\u001b[0;34m\"The 'groups' parameter should not be None.\"\u001b[0m\u001b[0;34m)\u001b[0m\u001b[0;34m\u001b[0m\u001b[0;34m\u001b[0m\u001b[0m\n\u001b[0;32m-> 2162\u001b[0;31m         \u001b[0mgroups\u001b[0m \u001b[0;34m=\u001b[0m \u001b[0mcheck_array\u001b[0m\u001b[0;34m(\u001b[0m\u001b[0mgroups\u001b[0m\u001b[0;34m,\u001b[0m \u001b[0minput_name\u001b[0m\u001b[0;34m=\u001b[0m\u001b[0;34m\"groups\"\u001b[0m\u001b[0;34m,\u001b[0m \u001b[0mensure_2d\u001b[0m\u001b[0;34m=\u001b[0m\u001b[0;32mFalse\u001b[0m\u001b[0;34m,\u001b[0m \u001b[0mdtype\u001b[0m\u001b[0;34m=\u001b[0m\u001b[0;32mNone\u001b[0m\u001b[0;34m)\u001b[0m\u001b[0;34m\u001b[0m\u001b[0;34m\u001b[0m\u001b[0m\n\u001b[0m\u001b[1;32m   2163\u001b[0m         \u001b[0mclasses\u001b[0m\u001b[0;34m,\u001b[0m \u001b[0mgroup_indices\u001b[0m \u001b[0;34m=\u001b[0m \u001b[0mnp\u001b[0m\u001b[0;34m.\u001b[0m\u001b[0munique\u001b[0m\u001b[0;34m(\u001b[0m\u001b[0mgroups\u001b[0m\u001b[0;34m,\u001b[0m \u001b[0mreturn_inverse\u001b[0m\u001b[0;34m=\u001b[0m\u001b[0;32mTrue\u001b[0m\u001b[0;34m)\u001b[0m\u001b[0;34m\u001b[0m\u001b[0;34m\u001b[0m\u001b[0m\n\u001b[1;32m   2164\u001b[0m         \u001b[0;32mfor\u001b[0m \u001b[0mgroup_train\u001b[0m\u001b[0;34m,\u001b[0m \u001b[0mgroup_test\u001b[0m \u001b[0;32min\u001b[0m \u001b[0msuper\u001b[0m\u001b[0;34m(\u001b[0m\u001b[0;34m)\u001b[0m\u001b[0;34m.\u001b[0m\u001b[0m_iter_indices\u001b[0m\u001b[0;34m(\u001b[0m\u001b[0mX\u001b[0m\u001b[0;34m=\u001b[0m\u001b[0mclasses\u001b[0m\u001b[0;34m)\u001b[0m\u001b[0;34m:\u001b[0m\u001b[0;34m\u001b[0m\u001b[0;34m\u001b[0m\u001b[0m\n",
            "\u001b[0;32m/usr/local/lib/python3.12/dist-packages/sklearn/utils/validation.py\u001b[0m in \u001b[0;36mcheck_array\u001b[0;34m(array, accept_sparse, accept_large_sparse, dtype, order, copy, force_writeable, force_all_finite, ensure_all_finite, ensure_non_negative, ensure_2d, allow_nd, ensure_min_samples, ensure_min_features, estimator, input_name)\u001b[0m\n\u001b[1;32m   1105\u001b[0m \u001b[0;34m\u001b[0m\u001b[0m\n\u001b[1;32m   1106\u001b[0m         \u001b[0;32mif\u001b[0m \u001b[0mensure_all_finite\u001b[0m\u001b[0;34m:\u001b[0m\u001b[0;34m\u001b[0m\u001b[0;34m\u001b[0m\u001b[0m\n\u001b[0;32m-> 1107\u001b[0;31m             _assert_all_finite(\n\u001b[0m\u001b[1;32m   1108\u001b[0m                 \u001b[0marray\u001b[0m\u001b[0;34m,\u001b[0m\u001b[0;34m\u001b[0m\u001b[0;34m\u001b[0m\u001b[0m\n\u001b[1;32m   1109\u001b[0m                 \u001b[0minput_name\u001b[0m\u001b[0;34m=\u001b[0m\u001b[0minput_name\u001b[0m\u001b[0;34m,\u001b[0m\u001b[0;34m\u001b[0m\u001b[0;34m\u001b[0m\u001b[0m\n",
            "\u001b[0;32m/usr/local/lib/python3.12/dist-packages/sklearn/utils/validation.py\u001b[0m in \u001b[0;36m_assert_all_finite\u001b[0;34m(X, allow_nan, msg_dtype, estimator_name, input_name)\u001b[0m\n\u001b[1;32m    103\u001b[0m     \u001b[0;32mif\u001b[0m \u001b[0;32mnot\u001b[0m \u001b[0mis_array_api\u001b[0m \u001b[0;32mand\u001b[0m \u001b[0mX\u001b[0m\u001b[0;34m.\u001b[0m\u001b[0mdtype\u001b[0m \u001b[0;34m==\u001b[0m \u001b[0mnp\u001b[0m\u001b[0;34m.\u001b[0m\u001b[0mdtype\u001b[0m\u001b[0;34m(\u001b[0m\u001b[0;34m\"object\"\u001b[0m\u001b[0;34m)\u001b[0m \u001b[0;32mand\u001b[0m \u001b[0;32mnot\u001b[0m \u001b[0mallow_nan\u001b[0m\u001b[0;34m:\u001b[0m\u001b[0;34m\u001b[0m\u001b[0;34m\u001b[0m\u001b[0m\n\u001b[1;32m    104\u001b[0m         \u001b[0;32mif\u001b[0m \u001b[0m_object_dtype_isnan\u001b[0m\u001b[0;34m(\u001b[0m\u001b[0mX\u001b[0m\u001b[0;34m)\u001b[0m\u001b[0;34m.\u001b[0m\u001b[0many\u001b[0m\u001b[0;34m(\u001b[0m\u001b[0;34m)\u001b[0m\u001b[0;34m:\u001b[0m\u001b[0;34m\u001b[0m\u001b[0;34m\u001b[0m\u001b[0m\n\u001b[0;32m--> 105\u001b[0;31m             \u001b[0;32mraise\u001b[0m \u001b[0mValueError\u001b[0m\u001b[0;34m(\u001b[0m\u001b[0;34m\"Input contains NaN\"\u001b[0m\u001b[0;34m)\u001b[0m\u001b[0;34m\u001b[0m\u001b[0;34m\u001b[0m\u001b[0m\n\u001b[0m\u001b[1;32m    106\u001b[0m \u001b[0;34m\u001b[0m\u001b[0m\n\u001b[1;32m    107\u001b[0m     \u001b[0;31m# We need only consider float arrays, hence can early return for all else.\u001b[0m\u001b[0;34m\u001b[0m\u001b[0;34m\u001b[0m\u001b[0m\n",
            "\u001b[0;31mValueError\u001b[0m: Input contains NaN"
          ]
        }
      ]
    }
  ]
}